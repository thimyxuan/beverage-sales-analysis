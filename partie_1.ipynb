{
 "cells": [
  {
   "cell_type": "markdown",
   "metadata": {},
   "source": [
    "# PARTIE 1 : Analyse exploratoire"
   ]
  },
  {
   "cell_type": "markdown",
   "metadata": {},
   "source": [
    "## Import librairies"
   ]
  },
  {
   "cell_type": "code",
   "execution_count": 43,
   "metadata": {},
   "outputs": [],
   "source": [
    "import pandas as pd\n",
    "import numpy as np\n",
    "import matplotlib.pyplot as plt\n",
    "import seaborn as sns\n",
    "import warnings\n",
    "warnings.filterwarnings('ignore', category=DeprecationWarning)"
   ]
  },
  {
   "cell_type": "markdown",
   "metadata": {},
   "source": [
    "## Lecture des données & nettoyage"
   ]
  },
  {
   "cell_type": "code",
   "execution_count": 44,
   "metadata": {},
   "outputs": [],
   "source": [
    "# Lecture du fichier csv :\n",
    "clients = pd.read_csv('./src/clients.csv', sep=';')"
   ]
  },
  {
   "cell_type": "code",
   "execution_count": 45,
   "metadata": {},
   "outputs": [
    {
     "name": "stdout",
     "output_type": "stream",
     "text": [
      "(75, 9)\n"
     ]
    },
    {
     "data": {
      "text/html": [
       "<div>\n",
       "<style scoped>\n",
       "    .dataframe tbody tr th:only-of-type {\n",
       "        vertical-align: middle;\n",
       "    }\n",
       "\n",
       "    .dataframe tbody tr th {\n",
       "        vertical-align: top;\n",
       "    }\n",
       "\n",
       "    .dataframe thead th {\n",
       "        text-align: right;\n",
       "    }\n",
       "</style>\n",
       "<table border=\"1\" class=\"dataframe\">\n",
       "  <thead>\n",
       "    <tr style=\"text-align: right;\">\n",
       "      <th></th>\n",
       "      <th>Id Client</th>\n",
       "      <th>Societe</th>\n",
       "      <th>Ville</th>\n",
       "      <th>Pays</th>\n",
       "      <th>Unnamed: 4</th>\n",
       "      <th>Unnamed: 5</th>\n",
       "      <th>Unnamed: 6</th>\n",
       "      <th>Unnamed: 7</th>\n",
       "      <th>Unnamed: 8</th>\n",
       "    </tr>\n",
       "  </thead>\n",
       "  <tbody>\n",
       "    <tr>\n",
       "      <th>0</th>\n",
       "      <td>1</td>\n",
       "      <td>Dupont</td>\n",
       "      <td>Lille</td>\n",
       "      <td>France</td>\n",
       "      <td>NaN</td>\n",
       "      <td>NaN</td>\n",
       "      <td>NaN</td>\n",
       "      <td>NaN</td>\n",
       "      <td>NaN</td>\n",
       "    </tr>\n",
       "    <tr>\n",
       "      <th>1</th>\n",
       "      <td>74</td>\n",
       "      <td>Toutbio</td>\n",
       "      <td>Lille</td>\n",
       "      <td>France</td>\n",
       "      <td>NaN</td>\n",
       "      <td>NaN</td>\n",
       "      <td>NaN</td>\n",
       "      <td>NaN</td>\n",
       "      <td>NaN</td>\n",
       "    </tr>\n",
       "    <tr>\n",
       "      <th>2</th>\n",
       "      <td>2</td>\n",
       "      <td>Grain</td>\n",
       "      <td>Toulouse</td>\n",
       "      <td>France</td>\n",
       "      <td>NaN</td>\n",
       "      <td>NaN</td>\n",
       "      <td>NaN</td>\n",
       "      <td>NaN</td>\n",
       "      <td>NaN</td>\n",
       "    </tr>\n",
       "    <tr>\n",
       "      <th>3</th>\n",
       "      <td>73</td>\n",
       "      <td>Biocompagnie</td>\n",
       "      <td>Nantes</td>\n",
       "      <td>France</td>\n",
       "      <td>NaN</td>\n",
       "      <td>NaN</td>\n",
       "      <td>NaN</td>\n",
       "      <td>NaN</td>\n",
       "      <td>NaN</td>\n",
       "    </tr>\n",
       "    <tr>\n",
       "      <th>4</th>\n",
       "      <td>3</td>\n",
       "      <td>Alimentfirst</td>\n",
       "      <td>Rouen</td>\n",
       "      <td>France</td>\n",
       "      <td>NaN</td>\n",
       "      <td>NaN</td>\n",
       "      <td>NaN</td>\n",
       "      <td>NaN</td>\n",
       "      <td>NaN</td>\n",
       "    </tr>\n",
       "  </tbody>\n",
       "</table>\n",
       "</div>"
      ],
      "text/plain": [
       "   Id Client       Societe     Ville    Pays  Unnamed: 4  Unnamed: 5  \\\n",
       "0          1        Dupont     Lille  France         NaN         NaN   \n",
       "1         74       Toutbio     Lille  France         NaN         NaN   \n",
       "2          2         Grain  Toulouse  France         NaN         NaN   \n",
       "3         73  Biocompagnie    Nantes  France         NaN         NaN   \n",
       "4          3  Alimentfirst     Rouen  France         NaN         NaN   \n",
       "\n",
       "   Unnamed: 6  Unnamed: 7  Unnamed: 8  \n",
       "0         NaN         NaN         NaN  \n",
       "1         NaN         NaN         NaN  \n",
       "2         NaN         NaN         NaN  \n",
       "3         NaN         NaN         NaN  \n",
       "4         NaN         NaN         NaN  "
      ]
     },
     "execution_count": 45,
     "metadata": {},
     "output_type": "execute_result"
    }
   ],
   "source": [
    "print(clients.shape)\n",
    "clients.head()"
   ]
  },
  {
   "cell_type": "code",
   "execution_count": 46,
   "metadata": {},
   "outputs": [],
   "source": [
    "# Supression des colonnes vides :\n",
    "for i in range(4,9):\n",
    "    col_to_drop = f'Unnamed: {i}'\n",
    "    clients.drop(columns=col_to_drop, inplace=True)"
   ]
  },
  {
   "cell_type": "code",
   "execution_count": 47,
   "metadata": {},
   "outputs": [
    {
     "name": "stdout",
     "output_type": "stream",
     "text": [
      "(75, 4)\n"
     ]
    },
    {
     "data": {
      "text/html": [
       "<div>\n",
       "<style scoped>\n",
       "    .dataframe tbody tr th:only-of-type {\n",
       "        vertical-align: middle;\n",
       "    }\n",
       "\n",
       "    .dataframe tbody tr th {\n",
       "        vertical-align: top;\n",
       "    }\n",
       "\n",
       "    .dataframe thead th {\n",
       "        text-align: right;\n",
       "    }\n",
       "</style>\n",
       "<table border=\"1\" class=\"dataframe\">\n",
       "  <thead>\n",
       "    <tr style=\"text-align: right;\">\n",
       "      <th></th>\n",
       "      <th>Id Client</th>\n",
       "      <th>Societe</th>\n",
       "      <th>Ville</th>\n",
       "      <th>Pays</th>\n",
       "    </tr>\n",
       "  </thead>\n",
       "  <tbody>\n",
       "    <tr>\n",
       "      <th>0</th>\n",
       "      <td>1</td>\n",
       "      <td>Dupont</td>\n",
       "      <td>Lille</td>\n",
       "      <td>France</td>\n",
       "    </tr>\n",
       "    <tr>\n",
       "      <th>1</th>\n",
       "      <td>74</td>\n",
       "      <td>Toutbio</td>\n",
       "      <td>Lille</td>\n",
       "      <td>France</td>\n",
       "    </tr>\n",
       "    <tr>\n",
       "      <th>2</th>\n",
       "      <td>2</td>\n",
       "      <td>Grain</td>\n",
       "      <td>Toulouse</td>\n",
       "      <td>France</td>\n",
       "    </tr>\n",
       "    <tr>\n",
       "      <th>3</th>\n",
       "      <td>73</td>\n",
       "      <td>Biocompagnie</td>\n",
       "      <td>Nantes</td>\n",
       "      <td>France</td>\n",
       "    </tr>\n",
       "    <tr>\n",
       "      <th>4</th>\n",
       "      <td>3</td>\n",
       "      <td>Alimentfirst</td>\n",
       "      <td>Rouen</td>\n",
       "      <td>France</td>\n",
       "    </tr>\n",
       "  </tbody>\n",
       "</table>\n",
       "</div>"
      ],
      "text/plain": [
       "   Id Client       Societe     Ville    Pays\n",
       "0          1        Dupont     Lille  France\n",
       "1         74       Toutbio     Lille  France\n",
       "2          2         Grain  Toulouse  France\n",
       "3         73  Biocompagnie    Nantes  France\n",
       "4          3  Alimentfirst     Rouen  France"
      ]
     },
     "execution_count": 47,
     "metadata": {},
     "output_type": "execute_result"
    }
   ],
   "source": [
    "print(clients.shape)\n",
    "clients.head()"
   ]
  },
  {
   "cell_type": "code",
   "execution_count": 48,
   "metadata": {},
   "outputs": [],
   "source": [
    "# Lecture du fichier csv :\n",
    "commandes = pd.read_csv('./src/commandes.csv', sep=';')"
   ]
  },
  {
   "cell_type": "code",
   "execution_count": 49,
   "metadata": {},
   "outputs": [
    {
     "name": "stdout",
     "output_type": "stream",
     "text": [
      "(2155, 9)\n"
     ]
    },
    {
     "data": {
      "text/html": [
       "<div>\n",
       "<style scoped>\n",
       "    .dataframe tbody tr th:only-of-type {\n",
       "        vertical-align: middle;\n",
       "    }\n",
       "\n",
       "    .dataframe tbody tr th {\n",
       "        vertical-align: top;\n",
       "    }\n",
       "\n",
       "    .dataframe thead th {\n",
       "        text-align: right;\n",
       "    }\n",
       "</style>\n",
       "<table border=\"1\" class=\"dataframe\">\n",
       "  <thead>\n",
       "    <tr style=\"text-align: right;\">\n",
       "      <th></th>\n",
       "      <th>id Commande</th>\n",
       "      <th>id Produit</th>\n",
       "      <th>Quantite</th>\n",
       "      <th>id Client</th>\n",
       "      <th>id Employe</th>\n",
       "      <th>Date</th>\n",
       "      <th>id Transporteur</th>\n",
       "      <th>Unnamed: 7</th>\n",
       "      <th>Unnamed: 8</th>\n",
       "    </tr>\n",
       "  </thead>\n",
       "  <tbody>\n",
       "    <tr>\n",
       "      <th>0</th>\n",
       "      <td>10248</td>\n",
       "      <td>27</td>\n",
       "      <td>5</td>\n",
       "      <td>8</td>\n",
       "      <td>5</td>\n",
       "      <td>lundi, septembre 25, 2017</td>\n",
       "      <td>3</td>\n",
       "      <td>NaN</td>\n",
       "      <td>NaN</td>\n",
       "    </tr>\n",
       "    <tr>\n",
       "      <th>1</th>\n",
       "      <td>10248</td>\n",
       "      <td>11</td>\n",
       "      <td>12</td>\n",
       "      <td>8</td>\n",
       "      <td>5</td>\n",
       "      <td>lundi, septembre 25, 2017</td>\n",
       "      <td>3</td>\n",
       "      <td>NaN</td>\n",
       "      <td>NaN</td>\n",
       "    </tr>\n",
       "    <tr>\n",
       "      <th>2</th>\n",
       "      <td>10248</td>\n",
       "      <td>11</td>\n",
       "      <td>10</td>\n",
       "      <td>8</td>\n",
       "      <td>5</td>\n",
       "      <td>lundi, septembre 25, 2017</td>\n",
       "      <td>3</td>\n",
       "      <td>NaN</td>\n",
       "      <td>NaN</td>\n",
       "    </tr>\n",
       "    <tr>\n",
       "      <th>3</th>\n",
       "      <td>10249</td>\n",
       "      <td>14</td>\n",
       "      <td>9</td>\n",
       "      <td>12</td>\n",
       "      <td>6</td>\n",
       "      <td>mercredi, novembre 22, 2017</td>\n",
       "      <td>1</td>\n",
       "      <td>NaN</td>\n",
       "      <td>NaN</td>\n",
       "    </tr>\n",
       "    <tr>\n",
       "      <th>4</th>\n",
       "      <td>10249</td>\n",
       "      <td>10</td>\n",
       "      <td>40</td>\n",
       "      <td>12</td>\n",
       "      <td>6</td>\n",
       "      <td>mercredi, novembre 22, 2017</td>\n",
       "      <td>1</td>\n",
       "      <td>NaN</td>\n",
       "      <td>Co</td>\n",
       "    </tr>\n",
       "  </tbody>\n",
       "</table>\n",
       "</div>"
      ],
      "text/plain": [
       "   id Commande  id Produit  Quantite  id Client  id Employe  \\\n",
       "0        10248          27         5          8           5   \n",
       "1        10248          11        12          8           5   \n",
       "2        10248          11        10          8           5   \n",
       "3        10249          14         9         12           6   \n",
       "4        10249          10        40         12           6   \n",
       "\n",
       "                          Date  id Transporteur  Unnamed: 7 Unnamed: 8  \n",
       "0    lundi, septembre 25, 2017                3         NaN        NaN  \n",
       "1    lundi, septembre 25, 2017                3         NaN        NaN  \n",
       "2    lundi, septembre 25, 2017                3         NaN        NaN  \n",
       "3  mercredi, novembre 22, 2017                1         NaN        NaN  \n",
       "4  mercredi, novembre 22, 2017                1         NaN         Co  "
      ]
     },
     "execution_count": 49,
     "metadata": {},
     "output_type": "execute_result"
    }
   ],
   "source": [
    "print(commandes.shape)\n",
    "commandes.head()"
   ]
  },
  {
   "cell_type": "code",
   "execution_count": 50,
   "metadata": {},
   "outputs": [],
   "source": [
    "# Supression des colonnes vides :\n",
    "for i in range(7,9):\n",
    "    col_to_drop = f'Unnamed: {i}'\n",
    "    commandes.drop(columns=col_to_drop, inplace=True)"
   ]
  },
  {
   "cell_type": "code",
   "execution_count": 51,
   "metadata": {},
   "outputs": [
    {
     "name": "stdout",
     "output_type": "stream",
     "text": [
      "(2155, 7)\n"
     ]
    },
    {
     "data": {
      "text/html": [
       "<div>\n",
       "<style scoped>\n",
       "    .dataframe tbody tr th:only-of-type {\n",
       "        vertical-align: middle;\n",
       "    }\n",
       "\n",
       "    .dataframe tbody tr th {\n",
       "        vertical-align: top;\n",
       "    }\n",
       "\n",
       "    .dataframe thead th {\n",
       "        text-align: right;\n",
       "    }\n",
       "</style>\n",
       "<table border=\"1\" class=\"dataframe\">\n",
       "  <thead>\n",
       "    <tr style=\"text-align: right;\">\n",
       "      <th></th>\n",
       "      <th>id Commande</th>\n",
       "      <th>id Produit</th>\n",
       "      <th>Quantite</th>\n",
       "      <th>id Client</th>\n",
       "      <th>id Employe</th>\n",
       "      <th>Date</th>\n",
       "      <th>id Transporteur</th>\n",
       "    </tr>\n",
       "  </thead>\n",
       "  <tbody>\n",
       "    <tr>\n",
       "      <th>0</th>\n",
       "      <td>10248</td>\n",
       "      <td>27</td>\n",
       "      <td>5</td>\n",
       "      <td>8</td>\n",
       "      <td>5</td>\n",
       "      <td>lundi, septembre 25, 2017</td>\n",
       "      <td>3</td>\n",
       "    </tr>\n",
       "    <tr>\n",
       "      <th>1</th>\n",
       "      <td>10248</td>\n",
       "      <td>11</td>\n",
       "      <td>12</td>\n",
       "      <td>8</td>\n",
       "      <td>5</td>\n",
       "      <td>lundi, septembre 25, 2017</td>\n",
       "      <td>3</td>\n",
       "    </tr>\n",
       "    <tr>\n",
       "      <th>2</th>\n",
       "      <td>10248</td>\n",
       "      <td>11</td>\n",
       "      <td>10</td>\n",
       "      <td>8</td>\n",
       "      <td>5</td>\n",
       "      <td>lundi, septembre 25, 2017</td>\n",
       "      <td>3</td>\n",
       "    </tr>\n",
       "    <tr>\n",
       "      <th>3</th>\n",
       "      <td>10249</td>\n",
       "      <td>14</td>\n",
       "      <td>9</td>\n",
       "      <td>12</td>\n",
       "      <td>6</td>\n",
       "      <td>mercredi, novembre 22, 2017</td>\n",
       "      <td>1</td>\n",
       "    </tr>\n",
       "    <tr>\n",
       "      <th>4</th>\n",
       "      <td>10249</td>\n",
       "      <td>10</td>\n",
       "      <td>40</td>\n",
       "      <td>12</td>\n",
       "      <td>6</td>\n",
       "      <td>mercredi, novembre 22, 2017</td>\n",
       "      <td>1</td>\n",
       "    </tr>\n",
       "  </tbody>\n",
       "</table>\n",
       "</div>"
      ],
      "text/plain": [
       "   id Commande  id Produit  Quantite  id Client  id Employe  \\\n",
       "0        10248          27         5          8           5   \n",
       "1        10248          11        12          8           5   \n",
       "2        10248          11        10          8           5   \n",
       "3        10249          14         9         12           6   \n",
       "4        10249          10        40         12           6   \n",
       "\n",
       "                          Date  id Transporteur  \n",
       "0    lundi, septembre 25, 2017                3  \n",
       "1    lundi, septembre 25, 2017                3  \n",
       "2    lundi, septembre 25, 2017                3  \n",
       "3  mercredi, novembre 22, 2017                1  \n",
       "4  mercredi, novembre 22, 2017                1  "
      ]
     },
     "execution_count": 51,
     "metadata": {},
     "output_type": "execute_result"
    }
   ],
   "source": [
    "print(commandes.shape)\n",
    "commandes.head()"
   ]
  },
  {
   "cell_type": "code",
   "execution_count": 52,
   "metadata": {},
   "outputs": [],
   "source": [
    "# Lecture du fichier csv :\n",
    "produits = pd.read_csv('./src/produits.csv', sep=';')"
   ]
  },
  {
   "cell_type": "code",
   "execution_count": 53,
   "metadata": {},
   "outputs": [
    {
     "name": "stdout",
     "output_type": "stream",
     "text": [
      "(28, 5)\n"
     ]
    },
    {
     "data": {
      "text/html": [
       "<div>\n",
       "<style scoped>\n",
       "    .dataframe tbody tr th:only-of-type {\n",
       "        vertical-align: middle;\n",
       "    }\n",
       "\n",
       "    .dataframe tbody tr th {\n",
       "        vertical-align: top;\n",
       "    }\n",
       "\n",
       "    .dataframe thead th {\n",
       "        text-align: right;\n",
       "    }\n",
       "</style>\n",
       "<table border=\"1\" class=\"dataframe\">\n",
       "  <thead>\n",
       "    <tr style=\"text-align: right;\">\n",
       "      <th></th>\n",
       "      <th>Id Produit</th>\n",
       "      <th>Produit</th>\n",
       "      <th>Categorie</th>\n",
       "      <th>Prix Unitaire HT</th>\n",
       "      <th>Unnamed: 4</th>\n",
       "    </tr>\n",
       "  </thead>\n",
       "  <tbody>\n",
       "    <tr>\n",
       "      <th>0</th>\n",
       "      <td>1</td>\n",
       "      <td>Favala</td>\n",
       "      <td>Eau</td>\n",
       "      <td>2.0</td>\n",
       "      <td>NaN</td>\n",
       "    </tr>\n",
       "    <tr>\n",
       "      <th>1</th>\n",
       "      <td>2</td>\n",
       "      <td>Evie</td>\n",
       "      <td>Eau</td>\n",
       "      <td>5.0</td>\n",
       "      <td>NaN</td>\n",
       "    </tr>\n",
       "    <tr>\n",
       "      <th>2</th>\n",
       "      <td>3</td>\n",
       "      <td>Dadi</td>\n",
       "      <td>Eau</td>\n",
       "      <td>3.0</td>\n",
       "      <td>NaN</td>\n",
       "    </tr>\n",
       "    <tr>\n",
       "      <th>3</th>\n",
       "      <td>4</td>\n",
       "      <td>Sourcelle</td>\n",
       "      <td>Eau</td>\n",
       "      <td>2.4</td>\n",
       "      <td>NaN</td>\n",
       "    </tr>\n",
       "    <tr>\n",
       "      <th>4</th>\n",
       "      <td>5</td>\n",
       "      <td>Vitella</td>\n",
       "      <td>Eau</td>\n",
       "      <td>1.9</td>\n",
       "      <td>NaN</td>\n",
       "    </tr>\n",
       "  </tbody>\n",
       "</table>\n",
       "</div>"
      ],
      "text/plain": [
       "   Id Produit    Produit Categorie  Prix Unitaire HT  Unnamed: 4\n",
       "0           1     Favala       Eau               2.0         NaN\n",
       "1           2       Evie       Eau               5.0         NaN\n",
       "2           3       Dadi       Eau               3.0         NaN\n",
       "3           4  Sourcelle       Eau               2.4         NaN\n",
       "4           5    Vitella       Eau               1.9         NaN"
      ]
     },
     "execution_count": 53,
     "metadata": {},
     "output_type": "execute_result"
    }
   ],
   "source": [
    "print(produits.shape)\n",
    "produits.head()"
   ]
  },
  {
   "cell_type": "code",
   "execution_count": 54,
   "metadata": {},
   "outputs": [
    {
     "data": {
      "text/html": [
       "<div>\n",
       "<style scoped>\n",
       "    .dataframe tbody tr th:only-of-type {\n",
       "        vertical-align: middle;\n",
       "    }\n",
       "\n",
       "    .dataframe tbody tr th {\n",
       "        vertical-align: top;\n",
       "    }\n",
       "\n",
       "    .dataframe thead th {\n",
       "        text-align: right;\n",
       "    }\n",
       "</style>\n",
       "<table border=\"1\" class=\"dataframe\">\n",
       "  <thead>\n",
       "    <tr style=\"text-align: right;\">\n",
       "      <th></th>\n",
       "      <th>Id Produit</th>\n",
       "      <th>Produit</th>\n",
       "      <th>Categorie</th>\n",
       "      <th>Prix Unitaire HT</th>\n",
       "    </tr>\n",
       "  </thead>\n",
       "  <tbody>\n",
       "    <tr>\n",
       "      <th>0</th>\n",
       "      <td>1</td>\n",
       "      <td>Favala</td>\n",
       "      <td>Eau</td>\n",
       "      <td>2.0</td>\n",
       "    </tr>\n",
       "    <tr>\n",
       "      <th>1</th>\n",
       "      <td>2</td>\n",
       "      <td>Evie</td>\n",
       "      <td>Eau</td>\n",
       "      <td>5.0</td>\n",
       "    </tr>\n",
       "    <tr>\n",
       "      <th>2</th>\n",
       "      <td>3</td>\n",
       "      <td>Dadi</td>\n",
       "      <td>Eau</td>\n",
       "      <td>3.0</td>\n",
       "    </tr>\n",
       "    <tr>\n",
       "      <th>3</th>\n",
       "      <td>4</td>\n",
       "      <td>Sourcelle</td>\n",
       "      <td>Eau</td>\n",
       "      <td>2.4</td>\n",
       "    </tr>\n",
       "    <tr>\n",
       "      <th>4</th>\n",
       "      <td>5</td>\n",
       "      <td>Vitella</td>\n",
       "      <td>Eau</td>\n",
       "      <td>1.9</td>\n",
       "    </tr>\n",
       "  </tbody>\n",
       "</table>\n",
       "</div>"
      ],
      "text/plain": [
       "   Id Produit    Produit Categorie  Prix Unitaire HT\n",
       "0           1     Favala       Eau               2.0\n",
       "1           2       Evie       Eau               5.0\n",
       "2           3       Dadi       Eau               3.0\n",
       "3           4  Sourcelle       Eau               2.4\n",
       "4           5    Vitella       Eau               1.9"
      ]
     },
     "execution_count": 54,
     "metadata": {},
     "output_type": "execute_result"
    }
   ],
   "source": [
    "# Suppression de la colonne vide :\n",
    "produits = produits.iloc[:,:-1]\n",
    "produits.head()"
   ]
  },
  {
   "cell_type": "markdown",
   "metadata": {},
   "source": [
    "## Création d'un dataframe enrichi"
   ]
  },
  {
   "cell_type": "code",
   "execution_count": 55,
   "metadata": {},
   "outputs": [],
   "source": [
    "# Jointure des dataframes Commandes et Produits :\n",
    "ventes = pd.merge(commandes, produits, left_on='id Produit', right_on='Id Produit', how='left')"
   ]
  },
  {
   "cell_type": "code",
   "execution_count": 56,
   "metadata": {},
   "outputs": [
    {
     "data": {
      "text/html": [
       "<div>\n",
       "<style scoped>\n",
       "    .dataframe tbody tr th:only-of-type {\n",
       "        vertical-align: middle;\n",
       "    }\n",
       "\n",
       "    .dataframe tbody tr th {\n",
       "        vertical-align: top;\n",
       "    }\n",
       "\n",
       "    .dataframe thead th {\n",
       "        text-align: right;\n",
       "    }\n",
       "</style>\n",
       "<table border=\"1\" class=\"dataframe\">\n",
       "  <thead>\n",
       "    <tr style=\"text-align: right;\">\n",
       "      <th></th>\n",
       "      <th>id Commande</th>\n",
       "      <th>id Produit</th>\n",
       "      <th>Quantite</th>\n",
       "      <th>id Client</th>\n",
       "      <th>id Employe</th>\n",
       "      <th>Date</th>\n",
       "      <th>id Transporteur</th>\n",
       "      <th>Produit</th>\n",
       "      <th>Categorie</th>\n",
       "      <th>Prix Unitaire HT</th>\n",
       "    </tr>\n",
       "  </thead>\n",
       "  <tbody>\n",
       "    <tr>\n",
       "      <th>0</th>\n",
       "      <td>10248</td>\n",
       "      <td>27</td>\n",
       "      <td>5</td>\n",
       "      <td>8</td>\n",
       "      <td>5</td>\n",
       "      <td>lundi, septembre 25, 2017</td>\n",
       "      <td>3</td>\n",
       "      <td>Why</td>\n",
       "      <td>Spiritueux</td>\n",
       "      <td>28.0</td>\n",
       "    </tr>\n",
       "    <tr>\n",
       "      <th>1</th>\n",
       "      <td>10248</td>\n",
       "      <td>11</td>\n",
       "      <td>12</td>\n",
       "      <td>8</td>\n",
       "      <td>5</td>\n",
       "      <td>lundi, septembre 25, 2017</td>\n",
       "      <td>3</td>\n",
       "      <td>Frecha</td>\n",
       "      <td>Boisson gazeuse</td>\n",
       "      <td>6.0</td>\n",
       "    </tr>\n",
       "    <tr>\n",
       "      <th>2</th>\n",
       "      <td>10248</td>\n",
       "      <td>11</td>\n",
       "      <td>10</td>\n",
       "      <td>8</td>\n",
       "      <td>5</td>\n",
       "      <td>lundi, septembre 25, 2017</td>\n",
       "      <td>3</td>\n",
       "      <td>Frecha</td>\n",
       "      <td>Boisson gazeuse</td>\n",
       "      <td>6.0</td>\n",
       "    </tr>\n",
       "    <tr>\n",
       "      <th>3</th>\n",
       "      <td>10249</td>\n",
       "      <td>14</td>\n",
       "      <td>9</td>\n",
       "      <td>12</td>\n",
       "      <td>6</td>\n",
       "      <td>mercredi, novembre 22, 2017</td>\n",
       "      <td>1</td>\n",
       "      <td>Delice</td>\n",
       "      <td>Jus de fruit</td>\n",
       "      <td>4.0</td>\n",
       "    </tr>\n",
       "    <tr>\n",
       "      <th>4</th>\n",
       "      <td>10249</td>\n",
       "      <td>10</td>\n",
       "      <td>40</td>\n",
       "      <td>12</td>\n",
       "      <td>6</td>\n",
       "      <td>mercredi, novembre 22, 2017</td>\n",
       "      <td>1</td>\n",
       "      <td>Contina</td>\n",
       "      <td>Boisson gazeuse</td>\n",
       "      <td>3.9</td>\n",
       "    </tr>\n",
       "  </tbody>\n",
       "</table>\n",
       "</div>"
      ],
      "text/plain": [
       "   id Commande  id Produit  Quantite  id Client  id Employe  \\\n",
       "0        10248          27         5          8           5   \n",
       "1        10248          11        12          8           5   \n",
       "2        10248          11        10          8           5   \n",
       "3        10249          14         9         12           6   \n",
       "4        10249          10        40         12           6   \n",
       "\n",
       "                          Date  id Transporteur  Produit        Categorie  \\\n",
       "0    lundi, septembre 25, 2017                3      Why       Spiritueux   \n",
       "1    lundi, septembre 25, 2017                3   Frecha  Boisson gazeuse   \n",
       "2    lundi, septembre 25, 2017                3   Frecha  Boisson gazeuse   \n",
       "3  mercredi, novembre 22, 2017                1   Delice     Jus de fruit   \n",
       "4  mercredi, novembre 22, 2017                1  Contina  Boisson gazeuse   \n",
       "\n",
       "   Prix Unitaire HT  \n",
       "0              28.0  \n",
       "1               6.0  \n",
       "2               6.0  \n",
       "3               4.0  \n",
       "4               3.9  "
      ]
     },
     "execution_count": 56,
     "metadata": {},
     "output_type": "execute_result"
    }
   ],
   "source": [
    "# Suppression des colonnes redondantes suite à la jointure :\n",
    "ventes.drop(columns='Id Produit', inplace=True)\n",
    "ventes.head()"
   ]
  },
  {
   "cell_type": "code",
   "execution_count": 57,
   "metadata": {},
   "outputs": [
    {
     "data": {
      "text/plain": [
       "id Commande         0.0\n",
       "id Produit          0.0\n",
       "Quantite            0.0\n",
       "id Client           0.0\n",
       "id Employe          0.0\n",
       "Date                0.0\n",
       "id Transporteur     0.0\n",
       "Produit             0.0\n",
       "Categorie           0.0\n",
       "Prix Unitaire HT    0.0\n",
       "dtype: float64"
      ]
     },
     "execution_count": 57,
     "metadata": {},
     "output_type": "execute_result"
    }
   ],
   "source": [
    "# Vérification des valeurs manquantes :\n",
    "ventes.isna().sum()/ventes.shape[0]*100"
   ]
  },
  {
   "cell_type": "code",
   "execution_count": 58,
   "metadata": {},
   "outputs": [],
   "source": [
    "# Ajout de la colonne Montant :\n",
    "ventes['Montant'] = ventes['Quantite'] * ventes['Prix Unitaire HT']"
   ]
  },
  {
   "cell_type": "code",
   "execution_count": 59,
   "metadata": {},
   "outputs": [
    {
     "data": {
      "text/html": [
       "<div>\n",
       "<style scoped>\n",
       "    .dataframe tbody tr th:only-of-type {\n",
       "        vertical-align: middle;\n",
       "    }\n",
       "\n",
       "    .dataframe tbody tr th {\n",
       "        vertical-align: top;\n",
       "    }\n",
       "\n",
       "    .dataframe thead th {\n",
       "        text-align: right;\n",
       "    }\n",
       "</style>\n",
       "<table border=\"1\" class=\"dataframe\">\n",
       "  <thead>\n",
       "    <tr style=\"text-align: right;\">\n",
       "      <th></th>\n",
       "      <th>id Commande</th>\n",
       "      <th>id Produit</th>\n",
       "      <th>Quantite</th>\n",
       "      <th>id Client</th>\n",
       "      <th>id Employe</th>\n",
       "      <th>Date</th>\n",
       "      <th>id Transporteur</th>\n",
       "      <th>Produit</th>\n",
       "      <th>Categorie</th>\n",
       "      <th>Prix Unitaire HT</th>\n",
       "      <th>Montant</th>\n",
       "    </tr>\n",
       "  </thead>\n",
       "  <tbody>\n",
       "    <tr>\n",
       "      <th>0</th>\n",
       "      <td>10248</td>\n",
       "      <td>27</td>\n",
       "      <td>5</td>\n",
       "      <td>8</td>\n",
       "      <td>5</td>\n",
       "      <td>lundi, septembre 25, 2017</td>\n",
       "      <td>3</td>\n",
       "      <td>Why</td>\n",
       "      <td>Spiritueux</td>\n",
       "      <td>28.0</td>\n",
       "      <td>140.0</td>\n",
       "    </tr>\n",
       "    <tr>\n",
       "      <th>1</th>\n",
       "      <td>10248</td>\n",
       "      <td>11</td>\n",
       "      <td>12</td>\n",
       "      <td>8</td>\n",
       "      <td>5</td>\n",
       "      <td>lundi, septembre 25, 2017</td>\n",
       "      <td>3</td>\n",
       "      <td>Frecha</td>\n",
       "      <td>Boisson gazeuse</td>\n",
       "      <td>6.0</td>\n",
       "      <td>72.0</td>\n",
       "    </tr>\n",
       "    <tr>\n",
       "      <th>2</th>\n",
       "      <td>10248</td>\n",
       "      <td>11</td>\n",
       "      <td>10</td>\n",
       "      <td>8</td>\n",
       "      <td>5</td>\n",
       "      <td>lundi, septembre 25, 2017</td>\n",
       "      <td>3</td>\n",
       "      <td>Frecha</td>\n",
       "      <td>Boisson gazeuse</td>\n",
       "      <td>6.0</td>\n",
       "      <td>60.0</td>\n",
       "    </tr>\n",
       "    <tr>\n",
       "      <th>3</th>\n",
       "      <td>10249</td>\n",
       "      <td>14</td>\n",
       "      <td>9</td>\n",
       "      <td>12</td>\n",
       "      <td>6</td>\n",
       "      <td>mercredi, novembre 22, 2017</td>\n",
       "      <td>1</td>\n",
       "      <td>Delice</td>\n",
       "      <td>Jus de fruit</td>\n",
       "      <td>4.0</td>\n",
       "      <td>36.0</td>\n",
       "    </tr>\n",
       "    <tr>\n",
       "      <th>4</th>\n",
       "      <td>10249</td>\n",
       "      <td>10</td>\n",
       "      <td>40</td>\n",
       "      <td>12</td>\n",
       "      <td>6</td>\n",
       "      <td>mercredi, novembre 22, 2017</td>\n",
       "      <td>1</td>\n",
       "      <td>Contina</td>\n",
       "      <td>Boisson gazeuse</td>\n",
       "      <td>3.9</td>\n",
       "      <td>156.0</td>\n",
       "    </tr>\n",
       "  </tbody>\n",
       "</table>\n",
       "</div>"
      ],
      "text/plain": [
       "   id Commande  id Produit  Quantite  id Client  id Employe  \\\n",
       "0        10248          27         5          8           5   \n",
       "1        10248          11        12          8           5   \n",
       "2        10248          11        10          8           5   \n",
       "3        10249          14         9         12           6   \n",
       "4        10249          10        40         12           6   \n",
       "\n",
       "                          Date  id Transporteur  Produit        Categorie  \\\n",
       "0    lundi, septembre 25, 2017                3      Why       Spiritueux   \n",
       "1    lundi, septembre 25, 2017                3   Frecha  Boisson gazeuse   \n",
       "2    lundi, septembre 25, 2017                3   Frecha  Boisson gazeuse   \n",
       "3  mercredi, novembre 22, 2017                1   Delice     Jus de fruit   \n",
       "4  mercredi, novembre 22, 2017                1  Contina  Boisson gazeuse   \n",
       "\n",
       "   Prix Unitaire HT  Montant  \n",
       "0              28.0    140.0  \n",
       "1               6.0     72.0  \n",
       "2               6.0     60.0  \n",
       "3               4.0     36.0  \n",
       "4               3.9    156.0  "
      ]
     },
     "execution_count": 59,
     "metadata": {},
     "output_type": "execute_result"
    }
   ],
   "source": [
    "ventes.head()"
   ]
  },
  {
   "cell_type": "code",
   "execution_count": 60,
   "metadata": {},
   "outputs": [
    {
     "data": {
      "text/plain": [
       "['septembre', '25']"
      ]
     },
     "execution_count": 60,
     "metadata": {},
     "output_type": "execute_result"
    }
   ],
   "source": [
    "ventes['Date'][0].split(\", \")[1].split(' ')"
   ]
  },
  {
   "cell_type": "code",
   "execution_count": 61,
   "metadata": {},
   "outputs": [],
   "source": [
    "# Ajout des colonnes Semaine, Mois, Jour, Annee :\n",
    "ventes['semaine'] = ''\n",
    "ventes['mois'] = ''\n",
    "ventes['jour'] = ''\n",
    "ventes['annee'] = ''"
   ]
  },
  {
   "cell_type": "code",
   "execution_count": 62,
   "metadata": {},
   "outputs": [],
   "source": [
    "for i in range(0, len(ventes)):\n",
    "    ventes.loc[i, 'semaine'] = ventes['Date'][i].split(\", \")[0]\n",
    "    ventes.loc[i, 'mois'] = ventes['Date'][i].split(\", \")[1].split(' ')[0]\n",
    "    ventes.loc[i, 'jour'] = ventes['Date'][i].split(\", \")[1].split(' ')[1]\n",
    "    ventes.loc[i, 'annee'] = ventes['Date'][i].split(\", \")[2]"
   ]
  },
  {
   "cell_type": "code",
   "execution_count": 63,
   "metadata": {},
   "outputs": [
    {
     "data": {
      "text/html": [
       "<div>\n",
       "<style scoped>\n",
       "    .dataframe tbody tr th:only-of-type {\n",
       "        vertical-align: middle;\n",
       "    }\n",
       "\n",
       "    .dataframe tbody tr th {\n",
       "        vertical-align: top;\n",
       "    }\n",
       "\n",
       "    .dataframe thead th {\n",
       "        text-align: right;\n",
       "    }\n",
       "</style>\n",
       "<table border=\"1\" class=\"dataframe\">\n",
       "  <thead>\n",
       "    <tr style=\"text-align: right;\">\n",
       "      <th></th>\n",
       "      <th>id Commande</th>\n",
       "      <th>id Produit</th>\n",
       "      <th>Quantite</th>\n",
       "      <th>id Client</th>\n",
       "      <th>id Employe</th>\n",
       "      <th>Date</th>\n",
       "      <th>id Transporteur</th>\n",
       "      <th>Produit</th>\n",
       "      <th>Categorie</th>\n",
       "      <th>Prix Unitaire HT</th>\n",
       "      <th>Montant</th>\n",
       "      <th>semaine</th>\n",
       "      <th>mois</th>\n",
       "      <th>jour</th>\n",
       "      <th>annee</th>\n",
       "    </tr>\n",
       "  </thead>\n",
       "  <tbody>\n",
       "    <tr>\n",
       "      <th>0</th>\n",
       "      <td>10248</td>\n",
       "      <td>27</td>\n",
       "      <td>5</td>\n",
       "      <td>8</td>\n",
       "      <td>5</td>\n",
       "      <td>lundi, septembre 25, 2017</td>\n",
       "      <td>3</td>\n",
       "      <td>Why</td>\n",
       "      <td>Spiritueux</td>\n",
       "      <td>28.0</td>\n",
       "      <td>140.0</td>\n",
       "      <td>lundi</td>\n",
       "      <td>septembre</td>\n",
       "      <td>25</td>\n",
       "      <td>2017</td>\n",
       "    </tr>\n",
       "    <tr>\n",
       "      <th>1</th>\n",
       "      <td>10248</td>\n",
       "      <td>11</td>\n",
       "      <td>12</td>\n",
       "      <td>8</td>\n",
       "      <td>5</td>\n",
       "      <td>lundi, septembre 25, 2017</td>\n",
       "      <td>3</td>\n",
       "      <td>Frecha</td>\n",
       "      <td>Boisson gazeuse</td>\n",
       "      <td>6.0</td>\n",
       "      <td>72.0</td>\n",
       "      <td>lundi</td>\n",
       "      <td>septembre</td>\n",
       "      <td>25</td>\n",
       "      <td>2017</td>\n",
       "    </tr>\n",
       "    <tr>\n",
       "      <th>2</th>\n",
       "      <td>10248</td>\n",
       "      <td>11</td>\n",
       "      <td>10</td>\n",
       "      <td>8</td>\n",
       "      <td>5</td>\n",
       "      <td>lundi, septembre 25, 2017</td>\n",
       "      <td>3</td>\n",
       "      <td>Frecha</td>\n",
       "      <td>Boisson gazeuse</td>\n",
       "      <td>6.0</td>\n",
       "      <td>60.0</td>\n",
       "      <td>lundi</td>\n",
       "      <td>septembre</td>\n",
       "      <td>25</td>\n",
       "      <td>2017</td>\n",
       "    </tr>\n",
       "    <tr>\n",
       "      <th>3</th>\n",
       "      <td>10249</td>\n",
       "      <td>14</td>\n",
       "      <td>9</td>\n",
       "      <td>12</td>\n",
       "      <td>6</td>\n",
       "      <td>mercredi, novembre 22, 2017</td>\n",
       "      <td>1</td>\n",
       "      <td>Delice</td>\n",
       "      <td>Jus de fruit</td>\n",
       "      <td>4.0</td>\n",
       "      <td>36.0</td>\n",
       "      <td>mercredi</td>\n",
       "      <td>novembre</td>\n",
       "      <td>22</td>\n",
       "      <td>2017</td>\n",
       "    </tr>\n",
       "    <tr>\n",
       "      <th>4</th>\n",
       "      <td>10249</td>\n",
       "      <td>10</td>\n",
       "      <td>40</td>\n",
       "      <td>12</td>\n",
       "      <td>6</td>\n",
       "      <td>mercredi, novembre 22, 2017</td>\n",
       "      <td>1</td>\n",
       "      <td>Contina</td>\n",
       "      <td>Boisson gazeuse</td>\n",
       "      <td>3.9</td>\n",
       "      <td>156.0</td>\n",
       "      <td>mercredi</td>\n",
       "      <td>novembre</td>\n",
       "      <td>22</td>\n",
       "      <td>2017</td>\n",
       "    </tr>\n",
       "  </tbody>\n",
       "</table>\n",
       "</div>"
      ],
      "text/plain": [
       "   id Commande  id Produit  Quantite  id Client  id Employe  \\\n",
       "0        10248          27         5          8           5   \n",
       "1        10248          11        12          8           5   \n",
       "2        10248          11        10          8           5   \n",
       "3        10249          14         9         12           6   \n",
       "4        10249          10        40         12           6   \n",
       "\n",
       "                          Date  id Transporteur  Produit        Categorie  \\\n",
       "0    lundi, septembre 25, 2017                3      Why       Spiritueux   \n",
       "1    lundi, septembre 25, 2017                3   Frecha  Boisson gazeuse   \n",
       "2    lundi, septembre 25, 2017                3   Frecha  Boisson gazeuse   \n",
       "3  mercredi, novembre 22, 2017                1   Delice     Jus de fruit   \n",
       "4  mercredi, novembre 22, 2017                1  Contina  Boisson gazeuse   \n",
       "\n",
       "   Prix Unitaire HT  Montant   semaine       mois jour annee  \n",
       "0              28.0    140.0     lundi  septembre   25  2017  \n",
       "1               6.0     72.0     lundi  septembre   25  2017  \n",
       "2               6.0     60.0     lundi  septembre   25  2017  \n",
       "3               4.0     36.0  mercredi   novembre   22  2017  \n",
       "4               3.9    156.0  mercredi   novembre   22  2017  "
      ]
     },
     "execution_count": 63,
     "metadata": {},
     "output_type": "execute_result"
    }
   ],
   "source": [
    "ventes.head()"
   ]
  },
  {
   "cell_type": "code",
   "execution_count": 64,
   "metadata": {},
   "outputs": [],
   "source": [
    "# Remplacement des mois par leur numéro :\n",
    "ventes['mois_numero'] = ventes['mois'].apply(\n",
    "                                                lambda x: 1 if x == 'janvier' \n",
    "                                                else 2 if x == 'février'\n",
    "                                                else 3 if x == 'mars'\n",
    "                                                else 4 if x == 'avril'\n",
    "                                                else 5 if x == 'mai'\n",
    "                                                else 6 if x == 'juin'\n",
    "                                                else 7 if x == 'juillet'\n",
    "                                                else 8 if x == 'août'\n",
    "                                                else 9 if x == 'septembre'\n",
    "                                                else 10 if x == 'octobre'\n",
    "                                                else 11 if x == 'novembre'\n",
    "                                                else 12 if x == 'décembre'\n",
    "                                                else 0\n",
    "                                                )"
   ]
  },
  {
   "cell_type": "markdown",
   "metadata": {},
   "source": [
    "### Statistiques basiques :\n",
    "\n",
    "Nous observons ceci :\n",
    "- Badia est la boisson la plus commandée ;\n",
    "- Les boissons gazeuses sont le type de boisson le plus commandé ;\n",
    "- Le montant moyen d'une ligne de commande est de 252 € ;\n",
    "- Le volume moyen d'une ligne de commande est de 23 boissons ;\n",
    "- Le prix moyen d'une boisson est de 10,68 €. La boisson la plus chère coûte 31 € et la boisson la moins chère coûte 1,90€ ;\n",
    "- Les commandes s'effectuent le plus souvent le samedi ;\n",
    "- Avril est le mois qui enregistre le plus de commandes ;\n",
    "- 2018 est l'année qui enregistre le plus de commandes."
   ]
  },
  {
   "cell_type": "code",
   "execution_count": 65,
   "metadata": {},
   "outputs": [
    {
     "data": {
      "text/html": [
       "<div>\n",
       "<style scoped>\n",
       "    .dataframe tbody tr th:only-of-type {\n",
       "        vertical-align: middle;\n",
       "    }\n",
       "\n",
       "    .dataframe tbody tr th {\n",
       "        vertical-align: top;\n",
       "    }\n",
       "\n",
       "    .dataframe thead th {\n",
       "        text-align: right;\n",
       "    }\n",
       "</style>\n",
       "<table border=\"1\" class=\"dataframe\">\n",
       "  <thead>\n",
       "    <tr style=\"text-align: right;\">\n",
       "      <th></th>\n",
       "      <th>id Commande</th>\n",
       "      <th>id Produit</th>\n",
       "      <th>Quantite</th>\n",
       "      <th>id Client</th>\n",
       "      <th>id Employe</th>\n",
       "      <th>Date</th>\n",
       "      <th>id Transporteur</th>\n",
       "      <th>Produit</th>\n",
       "      <th>Categorie</th>\n",
       "      <th>Prix Unitaire HT</th>\n",
       "      <th>Montant</th>\n",
       "      <th>semaine</th>\n",
       "      <th>mois</th>\n",
       "      <th>jour</th>\n",
       "      <th>annee</th>\n",
       "      <th>mois_numero</th>\n",
       "    </tr>\n",
       "  </thead>\n",
       "  <tbody>\n",
       "    <tr>\n",
       "      <th>count</th>\n",
       "      <td>2155.000000</td>\n",
       "      <td>2155.000000</td>\n",
       "      <td>2155.000000</td>\n",
       "      <td>2155.000000</td>\n",
       "      <td>2155.000000</td>\n",
       "      <td>2155</td>\n",
       "      <td>2155.000000</td>\n",
       "      <td>2155</td>\n",
       "      <td>2155</td>\n",
       "      <td>2155.000000</td>\n",
       "      <td>2155.000000</td>\n",
       "      <td>2155</td>\n",
       "      <td>2155</td>\n",
       "      <td>2155</td>\n",
       "      <td>2155</td>\n",
       "      <td>2155.000000</td>\n",
       "    </tr>\n",
       "    <tr>\n",
       "      <th>unique</th>\n",
       "      <td>NaN</td>\n",
       "      <td>NaN</td>\n",
       "      <td>NaN</td>\n",
       "      <td>NaN</td>\n",
       "      <td>NaN</td>\n",
       "      <td>480</td>\n",
       "      <td>NaN</td>\n",
       "      <td>27</td>\n",
       "      <td>7</td>\n",
       "      <td>NaN</td>\n",
       "      <td>NaN</td>\n",
       "      <td>5</td>\n",
       "      <td>12</td>\n",
       "      <td>31</td>\n",
       "      <td>3</td>\n",
       "      <td>NaN</td>\n",
       "    </tr>\n",
       "    <tr>\n",
       "      <th>top</th>\n",
       "      <td>NaN</td>\n",
       "      <td>NaN</td>\n",
       "      <td>NaN</td>\n",
       "      <td>NaN</td>\n",
       "      <td>NaN</td>\n",
       "      <td>samedi, mars 24, 2018</td>\n",
       "      <td>NaN</td>\n",
       "      <td>Badia</td>\n",
       "      <td>Boisson gazeuse</td>\n",
       "      <td>NaN</td>\n",
       "      <td>NaN</td>\n",
       "      <td>samedi</td>\n",
       "      <td>avril</td>\n",
       "      <td>24</td>\n",
       "      <td>2018</td>\n",
       "      <td>NaN</td>\n",
       "    </tr>\n",
       "    <tr>\n",
       "      <th>freq</th>\n",
       "      <td>NaN</td>\n",
       "      <td>NaN</td>\n",
       "      <td>NaN</td>\n",
       "      <td>NaN</td>\n",
       "      <td>NaN</td>\n",
       "      <td>27</td>\n",
       "      <td>NaN</td>\n",
       "      <td>265</td>\n",
       "      <td>586</td>\n",
       "      <td>NaN</td>\n",
       "      <td>NaN</td>\n",
       "      <td>450</td>\n",
       "      <td>277</td>\n",
       "      <td>99</td>\n",
       "      <td>1091</td>\n",
       "      <td>NaN</td>\n",
       "    </tr>\n",
       "    <tr>\n",
       "      <th>mean</th>\n",
       "      <td>10659.375870</td>\n",
       "      <td>15.026914</td>\n",
       "      <td>23.827842</td>\n",
       "      <td>31.694200</td>\n",
       "      <td>4.333179</td>\n",
       "      <td>NaN</td>\n",
       "      <td>1.997216</td>\n",
       "      <td>NaN</td>\n",
       "      <td>NaN</td>\n",
       "      <td>10.689466</td>\n",
       "      <td>251.871555</td>\n",
       "      <td>NaN</td>\n",
       "      <td>NaN</td>\n",
       "      <td>NaN</td>\n",
       "      <td>NaN</td>\n",
       "      <td>5.858469</td>\n",
       "    </tr>\n",
       "    <tr>\n",
       "      <th>std</th>\n",
       "      <td>241.378032</td>\n",
       "      <td>8.110725</td>\n",
       "      <td>19.026775</td>\n",
       "      <td>18.624166</td>\n",
       "      <td>2.490351</td>\n",
       "      <td>NaN</td>\n",
       "      <td>0.775670</td>\n",
       "      <td>NaN</td>\n",
       "      <td>NaN</td>\n",
       "      <td>9.005289</td>\n",
       "      <td>322.907048</td>\n",
       "      <td>NaN</td>\n",
       "      <td>NaN</td>\n",
       "      <td>NaN</td>\n",
       "      <td>NaN</td>\n",
       "      <td>3.655412</td>\n",
       "    </tr>\n",
       "    <tr>\n",
       "      <th>min</th>\n",
       "      <td>10248.000000</td>\n",
       "      <td>1.000000</td>\n",
       "      <td>1.000000</td>\n",
       "      <td>1.000000</td>\n",
       "      <td>1.000000</td>\n",
       "      <td>NaN</td>\n",
       "      <td>1.000000</td>\n",
       "      <td>NaN</td>\n",
       "      <td>NaN</td>\n",
       "      <td>1.900000</td>\n",
       "      <td>2.400000</td>\n",
       "      <td>NaN</td>\n",
       "      <td>NaN</td>\n",
       "      <td>NaN</td>\n",
       "      <td>NaN</td>\n",
       "      <td>1.000000</td>\n",
       "    </tr>\n",
       "    <tr>\n",
       "      <th>25%</th>\n",
       "      <td>10451.000000</td>\n",
       "      <td>7.000000</td>\n",
       "      <td>10.000000</td>\n",
       "      <td>19.000000</td>\n",
       "      <td>2.000000</td>\n",
       "      <td>NaN</td>\n",
       "      <td>1.000000</td>\n",
       "      <td>NaN</td>\n",
       "      <td>NaN</td>\n",
       "      <td>4.400000</td>\n",
       "      <td>61.000000</td>\n",
       "      <td>NaN</td>\n",
       "      <td>NaN</td>\n",
       "      <td>NaN</td>\n",
       "      <td>NaN</td>\n",
       "      <td>3.000000</td>\n",
       "    </tr>\n",
       "    <tr>\n",
       "      <th>50%</th>\n",
       "      <td>10657.000000</td>\n",
       "      <td>14.000000</td>\n",
       "      <td>20.000000</td>\n",
       "      <td>30.000000</td>\n",
       "      <td>4.000000</td>\n",
       "      <td>NaN</td>\n",
       "      <td>2.000000</td>\n",
       "      <td>NaN</td>\n",
       "      <td>NaN</td>\n",
       "      <td>6.000000</td>\n",
       "      <td>136.000000</td>\n",
       "      <td>NaN</td>\n",
       "      <td>NaN</td>\n",
       "      <td>NaN</td>\n",
       "      <td>NaN</td>\n",
       "      <td>5.000000</td>\n",
       "    </tr>\n",
       "    <tr>\n",
       "      <th>75%</th>\n",
       "      <td>10862.500000</td>\n",
       "      <td>23.000000</td>\n",
       "      <td>30.000000</td>\n",
       "      <td>45.000000</td>\n",
       "      <td>7.000000</td>\n",
       "      <td>NaN</td>\n",
       "      <td>3.000000</td>\n",
       "      <td>NaN</td>\n",
       "      <td>NaN</td>\n",
       "      <td>15.100000</td>\n",
       "      <td>300.000000</td>\n",
       "      <td>NaN</td>\n",
       "      <td>NaN</td>\n",
       "      <td>NaN</td>\n",
       "      <td>NaN</td>\n",
       "      <td>9.000000</td>\n",
       "    </tr>\n",
       "    <tr>\n",
       "      <th>max</th>\n",
       "      <td>11077.000000</td>\n",
       "      <td>27.000000</td>\n",
       "      <td>130.000000</td>\n",
       "      <td>75.000000</td>\n",
       "      <td>9.000000</td>\n",
       "      <td>NaN</td>\n",
       "      <td>3.000000</td>\n",
       "      <td>NaN</td>\n",
       "      <td>NaN</td>\n",
       "      <td>31.000000</td>\n",
       "      <td>3360.000000</td>\n",
       "      <td>NaN</td>\n",
       "      <td>NaN</td>\n",
       "      <td>NaN</td>\n",
       "      <td>NaN</td>\n",
       "      <td>12.000000</td>\n",
       "    </tr>\n",
       "  </tbody>\n",
       "</table>\n",
       "</div>"
      ],
      "text/plain": [
       "         id Commande   id Produit     Quantite    id Client   id Employe  \\\n",
       "count    2155.000000  2155.000000  2155.000000  2155.000000  2155.000000   \n",
       "unique           NaN          NaN          NaN          NaN          NaN   \n",
       "top              NaN          NaN          NaN          NaN          NaN   \n",
       "freq             NaN          NaN          NaN          NaN          NaN   \n",
       "mean    10659.375870    15.026914    23.827842    31.694200     4.333179   \n",
       "std       241.378032     8.110725    19.026775    18.624166     2.490351   \n",
       "min     10248.000000     1.000000     1.000000     1.000000     1.000000   \n",
       "25%     10451.000000     7.000000    10.000000    19.000000     2.000000   \n",
       "50%     10657.000000    14.000000    20.000000    30.000000     4.000000   \n",
       "75%     10862.500000    23.000000    30.000000    45.000000     7.000000   \n",
       "max     11077.000000    27.000000   130.000000    75.000000     9.000000   \n",
       "\n",
       "                         Date  id Transporteur Produit        Categorie  \\\n",
       "count                    2155      2155.000000    2155             2155   \n",
       "unique                    480              NaN      27                7   \n",
       "top     samedi, mars 24, 2018              NaN   Badia  Boisson gazeuse   \n",
       "freq                       27              NaN     265              586   \n",
       "mean                      NaN         1.997216     NaN              NaN   \n",
       "std                       NaN         0.775670     NaN              NaN   \n",
       "min                       NaN         1.000000     NaN              NaN   \n",
       "25%                       NaN         1.000000     NaN              NaN   \n",
       "50%                       NaN         2.000000     NaN              NaN   \n",
       "75%                       NaN         3.000000     NaN              NaN   \n",
       "max                       NaN         3.000000     NaN              NaN   \n",
       "\n",
       "        Prix Unitaire HT      Montant semaine   mois  jour annee  mois_numero  \n",
       "count        2155.000000  2155.000000    2155   2155  2155  2155  2155.000000  \n",
       "unique               NaN          NaN       5     12    31     3          NaN  \n",
       "top                  NaN          NaN  samedi  avril    24  2018          NaN  \n",
       "freq                 NaN          NaN     450    277    99  1091          NaN  \n",
       "mean           10.689466   251.871555     NaN    NaN   NaN   NaN     5.858469  \n",
       "std             9.005289   322.907048     NaN    NaN   NaN   NaN     3.655412  \n",
       "min             1.900000     2.400000     NaN    NaN   NaN   NaN     1.000000  \n",
       "25%             4.400000    61.000000     NaN    NaN   NaN   NaN     3.000000  \n",
       "50%             6.000000   136.000000     NaN    NaN   NaN   NaN     5.000000  \n",
       "75%            15.100000   300.000000     NaN    NaN   NaN   NaN     9.000000  \n",
       "max            31.000000  3360.000000     NaN    NaN   NaN   NaN    12.000000  "
      ]
     },
     "execution_count": 65,
     "metadata": {},
     "output_type": "execute_result"
    }
   ],
   "source": [
    "# Statistiques basiques :\n",
    "ventes.describe(include='all')"
   ]
  },
  {
   "cell_type": "markdown",
   "metadata": {},
   "source": [
    "## Pistes d'analyse"
   ]
  },
  {
   "cell_type": "markdown",
   "metadata": {},
   "source": [
    "Questions :\n",
    "\n",
    "- Comment ont évolué les ventes depuis 2017 ?\n",
    "- La répartition des ventes par mois est-elle régulière ?\n",
    "- Existe t-il une saisonnalité dans les ventes ?\n",
    "- Est-ce que certains jours de la semaine enregistrent plus de vente ?\n",
    "- Quelles catégories de boisson génèrent le plus de chiffre d'affaires ?\n",
    "- Quelles catégories de boisson sont les plus vendues ?\n",
    "- Quelles marques génèrent le plus de chiffre d'affaires ?\n",
    "- Quelles marques sont les plus vendues ?\n",
    "- Quelle est la part de chaque catégorie / marque dans le chiffre d'affaires ?\n",
    "- Quelle est la part de chaque catégorie / marque dans le volume de vente ?"
   ]
  },
  {
   "cell_type": "markdown",
   "metadata": {},
   "source": [
    "### Évolution des ventes"
   ]
  },
  {
   "cell_type": "code",
   "execution_count": 216,
   "metadata": {},
   "outputs": [
    {
     "data": {
      "text/plain": [
       "542783.2"
      ]
     },
     "execution_count": 216,
     "metadata": {},
     "output_type": "execute_result"
    }
   ],
   "source": [
    "# Ventes globales (en valeur):\n",
    "ventes['Montant'].sum()"
   ]
  },
  {
   "cell_type": "code",
   "execution_count": 217,
   "metadata": {},
   "outputs": [
    {
     "data": {
      "text/plain": [
       "51349"
      ]
     },
     "execution_count": 217,
     "metadata": {},
     "output_type": "execute_result"
    }
   ],
   "source": [
    "# Ventes globales (en volume) :\n",
    "ventes['Quantite'].sum()"
   ]
  },
  {
   "cell_type": "code",
   "execution_count": 67,
   "metadata": {},
   "outputs": [
    {
     "data": {
      "text/plain": [
       "annee\n",
       "2017     81896.6\n",
       "2018    298485.8\n",
       "2019    162400.8\n",
       "Name: Montant, dtype: float64"
      ]
     },
     "execution_count": 67,
     "metadata": {},
     "output_type": "execute_result"
    }
   ],
   "source": [
    "# Ventes par année (en valeur) :\n",
    "ca_annuel = ventes.groupby('annee')\n",
    "ca_annuel['Montant'].sum().sort_index()"
   ]
  },
  {
   "cell_type": "code",
   "execution_count": 68,
   "metadata": {},
   "outputs": [
    {
     "data": {
      "text/plain": [
       "annee\n",
       "2017     7168\n",
       "2018    27832\n",
       "2019    16349\n",
       "Name: Quantite, dtype: int64"
      ]
     },
     "execution_count": 68,
     "metadata": {},
     "output_type": "execute_result"
    }
   ],
   "source": [
    "# Ventes par année (en volume) :\n",
    "ca_annuel['Quantite'].sum().sort_index()"
   ]
  },
  {
   "cell_type": "code",
   "execution_count": 69,
   "metadata": {},
   "outputs": [
    {
     "data": {
      "text/plain": [
       "annee  mois_numero\n",
       "2017   7              10437.9\n",
       "       8              11854.4\n",
       "       9              10431.9\n",
       "       10             15810.7\n",
       "       11              9808.6\n",
       "       12             23553.1\n",
       "2018   1              43995.6\n",
       "       2              22100.4\n",
       "       3              15831.6\n",
       "       4              36057.7\n",
       "       5              39250.8\n",
       "       6              15980.8\n",
       "       7              19232.9\n",
       "       8              16083.3\n",
       "       9              25214.4\n",
       "       10             17558.3\n",
       "       11             21916.1\n",
       "       12             25263.9\n",
       "2019   1              25306.4\n",
       "       2              50249.4\n",
       "       3              37427.2\n",
       "       4              44447.8\n",
       "       5               4970.0\n",
       "Name: Montant, dtype: float64"
      ]
     },
     "execution_count": 69,
     "metadata": {},
     "output_type": "execute_result"
    }
   ],
   "source": [
    "# Ventes par mois (en valeur) :\n",
    "ca_mensuel = ventes.groupby(['annee', 'mois_numero'])\n",
    "ca_mensuel['Montant'].sum().sort_index()"
   ]
  },
  {
   "cell_type": "code",
   "execution_count": 113,
   "metadata": {},
   "outputs": [],
   "source": [
    "ca_mensuel_df = ca_mensuel['Montant'].sum().sort_index().to_frame().reset_index()"
   ]
  },
  {
   "cell_type": "code",
   "execution_count": 114,
   "metadata": {},
   "outputs": [],
   "source": [
    "# Ajout de la colonne datetime :\n",
    "from datetime import datetime\n",
    "\n",
    "for i in range(0, len(ca_mensuel_df)):\n",
    "    ca_mensuel_df.loc[i, 'date'] = ca_mensuel_df.loc[i, 'annee'] + '-' + str(ca_mensuel_df.loc[i, 'mois_numero'])\n",
    "\n",
    "date_format = '%Y-%m'\n",
    "ca_mensuel_df['datetime'] = ca_mensuel_df['date'].apply(lambda x: datetime.strptime(x, date_format))"
   ]
  },
  {
   "cell_type": "code",
   "execution_count": 231,
   "metadata": {},
   "outputs": [
    {
     "data": {
      "image/png": "[encoded data removed]",
      "text/plain": [
       "<Figure size 600x300 with 1 Axes>"
      ]
     },
     "metadata": {},
     "output_type": "display_data"
    }
   ],
   "source": [
    "# Visualisation graphique :\n",
    "plt.figure(figsize=(6,3))\n",
    "sns.lineplot(x=ca_mensuel_df['datetime'], y=ca_mensuel_df['Montant'])\n",
    "plt.title('Évolution globale des ventes entre 2017 et 2019', fontsize=10)\n",
    "plt.xlabel('')\n",
    "plt.ylabel('CA €')\n",
    "plt.xticks(fontsize=9, rotation=60, ha=\"right\")\n",
    "plt.show()"
   ]
  },
  {
   "cell_type": "markdown",
   "metadata": {},
   "source": [
    "### Saisonnalité"
   ]
  },
  {
   "cell_type": "code",
   "execution_count": 120,
   "metadata": {},
   "outputs": [
    {
     "data": {
      "text/plain": [
       "mois_numero\n",
       "1     69302.0\n",
       "2     72349.8\n",
       "3     53258.8\n",
       "4     80505.5\n",
       "5     44220.8\n",
       "6     15980.8\n",
       "7     29670.8\n",
       "8     27937.7\n",
       "9     35646.3\n",
       "10    33369.0\n",
       "11    31724.7\n",
       "12    48817.0\n",
       "Name: Montant, dtype: float64"
      ]
     },
     "execution_count": 120,
     "metadata": {},
     "output_type": "execute_result"
    }
   ],
   "source": [
    "# Ventes selon le mois (toutes années confondues):\n",
    "ca_mensuel = ventes.groupby('mois_numero')\n",
    "ca_mensuel['Montant'].sum().sort_index()"
   ]
  },
  {
   "cell_type": "code",
   "execution_count": 121,
   "metadata": {},
   "outputs": [
    {
     "data": {
      "image/png": "[encoded data removed]",
      "text/plain": [
       "<Figure size 600x300 with 1 Axes>"
      ]
     },
     "metadata": {},
     "output_type": "display_data"
    }
   ],
   "source": [
    "# Visualisation graphique :\n",
    "plt.figure(figsize=(6,3))\n",
    "sns.lineplot(data=ca_mensuel['Montant'].sum().sort_index())\n",
    "plt.title('Ventes selon le mois', fontsize=10)\n",
    "plt.xlabel('')\n",
    "plt.ylabel('CA')\n",
    "plt.xticks([i for i in range(1,13)], ['jan', 'fev', 'mar', 'avr', 'mai', 'jun', 'jui', 'aou', 'sep', 'oct', 'nov', 'dec'], fontsize=10, rotation=60, ha=\"right\")\n",
    "plt.show()"
   ]
  },
  {
   "cell_type": "code",
   "execution_count": 137,
   "metadata": {},
   "outputs": [
    {
     "data": {
      "text/plain": [
       "semaine\n",
       "dimanche    117596.0\n",
       "lundi       100994.1\n",
       "mardi       106942.8\n",
       "mercredi    105799.0\n",
       "samedi      111451.3\n",
       "Name: Montant, dtype: float64"
      ]
     },
     "execution_count": 137,
     "metadata": {},
     "output_type": "execute_result"
    }
   ],
   "source": [
    "# Ventes selon le jour de la semaine :\n",
    "ca_semaine = ventes.groupby('semaine')\n",
    "ca_semaine['Montant'].sum().sort_index()"
   ]
  },
  {
   "cell_type": "code",
   "execution_count": 138,
   "metadata": {},
   "outputs": [
    {
     "data": {
      "text/html": [
       "<div>\n",
       "<style scoped>\n",
       "    .dataframe tbody tr th:only-of-type {\n",
       "        vertical-align: middle;\n",
       "    }\n",
       "\n",
       "    .dataframe tbody tr th {\n",
       "        vertical-align: top;\n",
       "    }\n",
       "\n",
       "    .dataframe thead th {\n",
       "        text-align: right;\n",
       "    }\n",
       "</style>\n",
       "<table border=\"1\" class=\"dataframe\">\n",
       "  <thead>\n",
       "    <tr style=\"text-align: right;\">\n",
       "      <th></th>\n",
       "      <th>semaine</th>\n",
       "      <th>Montant</th>\n",
       "    </tr>\n",
       "  </thead>\n",
       "  <tbody>\n",
       "    <tr>\n",
       "      <th>0</th>\n",
       "      <td>dimanche</td>\n",
       "      <td>117596.0</td>\n",
       "    </tr>\n",
       "    <tr>\n",
       "      <th>1</th>\n",
       "      <td>lundi</td>\n",
       "      <td>100994.1</td>\n",
       "    </tr>\n",
       "    <tr>\n",
       "      <th>2</th>\n",
       "      <td>mardi</td>\n",
       "      <td>106942.8</td>\n",
       "    </tr>\n",
       "    <tr>\n",
       "      <th>3</th>\n",
       "      <td>mercredi</td>\n",
       "      <td>105799.0</td>\n",
       "    </tr>\n",
       "    <tr>\n",
       "      <th>4</th>\n",
       "      <td>samedi</td>\n",
       "      <td>111451.3</td>\n",
       "    </tr>\n",
       "  </tbody>\n",
       "</table>\n",
       "</div>"
      ],
      "text/plain": [
       "    semaine   Montant\n",
       "0  dimanche  117596.0\n",
       "1     lundi  100994.1\n",
       "2     mardi  106942.8\n",
       "3  mercredi  105799.0\n",
       "4    samedi  111451.3"
      ]
     },
     "execution_count": 138,
     "metadata": {},
     "output_type": "execute_result"
    }
   ],
   "source": [
    "ca_semaine_df = ca_semaine['Montant'].sum().sort_index().to_frame().reset_index()\n",
    "ca_semaine_df"
   ]
  },
  {
   "cell_type": "code",
   "execution_count": 139,
   "metadata": {},
   "outputs": [
    {
     "data": {
      "text/html": [
       "<div>\n",
       "<style scoped>\n",
       "    .dataframe tbody tr th:only-of-type {\n",
       "        vertical-align: middle;\n",
       "    }\n",
       "\n",
       "    .dataframe tbody tr th {\n",
       "        vertical-align: top;\n",
       "    }\n",
       "\n",
       "    .dataframe thead th {\n",
       "        text-align: right;\n",
       "    }\n",
       "</style>\n",
       "<table border=\"1\" class=\"dataframe\">\n",
       "  <thead>\n",
       "    <tr style=\"text-align: right;\">\n",
       "      <th></th>\n",
       "      <th>semaine</th>\n",
       "      <th>Montant</th>\n",
       "    </tr>\n",
       "  </thead>\n",
       "  <tbody>\n",
       "    <tr>\n",
       "      <th>7</th>\n",
       "      <td>dimanche</td>\n",
       "      <td>117596.0</td>\n",
       "    </tr>\n",
       "    <tr>\n",
       "      <th>1</th>\n",
       "      <td>lundi</td>\n",
       "      <td>100994.1</td>\n",
       "    </tr>\n",
       "    <tr>\n",
       "      <th>2</th>\n",
       "      <td>mardi</td>\n",
       "      <td>106942.8</td>\n",
       "    </tr>\n",
       "    <tr>\n",
       "      <th>3</th>\n",
       "      <td>mercredi</td>\n",
       "      <td>105799.0</td>\n",
       "    </tr>\n",
       "    <tr>\n",
       "      <th>6</th>\n",
       "      <td>samedi</td>\n",
       "      <td>111451.3</td>\n",
       "    </tr>\n",
       "  </tbody>\n",
       "</table>\n",
       "</div>"
      ],
      "text/plain": [
       "    semaine   Montant\n",
       "7  dimanche  117596.0\n",
       "1     lundi  100994.1\n",
       "2     mardi  106942.8\n",
       "3  mercredi  105799.0\n",
       "6    samedi  111451.3"
      ]
     },
     "execution_count": 139,
     "metadata": {},
     "output_type": "execute_result"
    }
   ],
   "source": [
    "# Correction de l'indice du samedi :\n",
    "ca_semaine_df.rename({ 4 : 6 }, axis=0, inplace=True)\n",
    "ca_semaine_df.rename({ 0 : 7 }, axis=0, inplace=True)\n",
    "ca_semaine_df"
   ]
  },
  {
   "cell_type": "code",
   "execution_count": 140,
   "metadata": {},
   "outputs": [],
   "source": [
    "# Ajout des jours de la semaine pour lesquels il n'y a pas de commande :\n",
    "ca_semaine_df.loc[4] = ['jeudi', 0]\n",
    "ca_semaine_df.loc[5] = ['vendredi', 0]"
   ]
  },
  {
   "cell_type": "code",
   "execution_count": 141,
   "metadata": {},
   "outputs": [
    {
     "data": {
      "image/png": "[encoded data removed]",
      "text/plain": [
       "<Figure size 600x300 with 1 Axes>"
      ]
     },
     "metadata": {},
     "output_type": "display_data"
    }
   ],
   "source": [
    "# Visualisation graphique :\n",
    "plt.figure(figsize=(6,3))\n",
    "sns.lineplot(data=ca_semaine_df['Montant'].sort_index())\n",
    "plt.title('Ventes selon le jour de la semaine', fontsize=10)\n",
    "plt.xlabel('')\n",
    "plt.ylabel('CA')\n",
    "plt.xticks([i for i in range(1,8)], ['lundi','mardi', 'mercredi', 'jeudi', 'vendredi', 'samedi', 'dimanche'], fontsize=10, rotation=45, ha=\"right\")\n",
    "plt.show()"
   ]
  },
  {
   "cell_type": "markdown",
   "metadata": {},
   "source": [
    "### Ventes par catégorie et marque\n",
    "\n",
    "--> Les spiritueux rapportent le plus de CA  \n",
    "--> Ils représentent 40% du CA total  \n",
    "--> Les boissons gazeuses sont le plus vendues en volume (14000 boissons)  \n",
    "--> Elles représentent 28% du volume total  \n",
    "--> Le whisky Why est le produit qui génère le plus de CA  \n",
    "--> La boisson gazeuse Badia est le produit qui est le plus vendu en volume (env. 7000 boissons)"
   ]
  },
  {
   "cell_type": "code",
   "execution_count": 142,
   "metadata": {},
   "outputs": [
    {
     "data": {
      "text/plain": [
       "Categorie\n",
       "Spiritueux             219701.0\n",
       "Vin                     98678.8\n",
       "Boisson gazeuse         71398.8\n",
       "Biere                   65919.6\n",
       "Jus de fruit            35159.3\n",
       "Boisson energetique     32189.5\n",
       "Eau                     19736.2\n",
       "Name: Montant, dtype: float64"
      ]
     },
     "execution_count": 142,
     "metadata": {},
     "output_type": "execute_result"
    }
   ],
   "source": [
    "# Ventes par catégorie (en valeur) :\n",
    "ventes.groupby('Categorie')['Montant'].sum().sort_values(ascending=False)"
   ]
  },
  {
   "cell_type": "code",
   "execution_count": 143,
   "metadata": {},
   "outputs": [
    {
     "data": {
      "text/plain": [
       "Categorie\n",
       "Spiritueux             40.476750\n",
       "Vin                    18.180150\n",
       "Boisson gazeuse        13.154202\n",
       "Biere                  12.144738\n",
       "Jus de fruit            6.477595\n",
       "Boisson energetique     5.930453\n",
       "Eau                     3.636111\n",
       "Name: Montant, dtype: float64"
      ]
     },
     "execution_count": 143,
     "metadata": {},
     "output_type": "execute_result"
    }
   ],
   "source": [
    "# En pourcentage :\n",
    "ventes.groupby('Categorie')['Montant'].sum().sort_values(ascending=False)/ventes['Montant'].sum()*100"
   ]
  },
  {
   "cell_type": "code",
   "execution_count": 144,
   "metadata": {},
   "outputs": [
    {
     "data": {
      "text/plain": [
       "Categorie\n",
       "Boisson gazeuse        14261\n",
       "Spiritueux              7649\n",
       "Eau                     6529\n",
       "Biere                   6150\n",
       "Jus de fruit            6137\n",
       "Boisson energetique     5336\n",
       "Vin                     5287\n",
       "Name: Quantite, dtype: int64"
      ]
     },
     "execution_count": 144,
     "metadata": {},
     "output_type": "execute_result"
    }
   ],
   "source": [
    "# Ventes par catégorie (en volume) :\n",
    "ventes.groupby('Categorie')['Quantite'].sum().sort_values(ascending=False)"
   ]
  },
  {
   "cell_type": "code",
   "execution_count": 145,
   "metadata": {},
   "outputs": [
    {
     "data": {
      "text/plain": [
       "Categorie\n",
       "Boisson gazeuse        27.772693\n",
       "Spiritueux             14.896103\n",
       "Eau                    12.714951\n",
       "Biere                  11.976864\n",
       "Jus de fruit           11.951547\n",
       "Boisson energetique    10.391634\n",
       "Vin                    10.296208\n",
       "Name: Quantite, dtype: float64"
      ]
     },
     "execution_count": 145,
     "metadata": {},
     "output_type": "execute_result"
    }
   ],
   "source": [
    "# En pourcentage :\n",
    "ventes.groupby('Categorie')['Quantite'].sum().sort_values(ascending=False)/ventes['Quantite'].sum()*100"
   ]
  },
  {
   "cell_type": "code",
   "execution_count": 147,
   "metadata": {},
   "outputs": [
    {
     "data": {
      "text/plain": [
       "Produit\n",
       "Why                162568.0\n",
       "Scotty              57133.0\n",
       "Château du lion     54496.5\n",
       "Kros                36690.0\n",
       "Badia               34825.0\n",
       "Château Pierre      27829.3\n",
       "Heine               15729.6\n",
       "Frecha              14748.0\n",
       "fricht              14718.6\n",
       "Draught             13500.0\n",
       "Saint prieur        12456.0\n",
       "Orana                9778.4\n",
       "Spit                 9589.9\n",
       "Contina              9523.8\n",
       "Frutel               9493.0\n",
       "Aprico               9151.9\n",
       "cacolaa              7881.0\n",
       "Evie                 6940.0\n",
       "Acqua                6906.0\n",
       "Delice               6736.0\n",
       "Dadi                 5820.0\n",
       "Chateua de lay       3897.0\n",
       "Sourcelle            3895.2\n",
       "Perria               3526.0\n",
       "Mialena              1870.0\n",
       "Favala               1656.0\n",
       "Vitella              1425.0\n",
       "Name: Montant, dtype: float64"
      ]
     },
     "execution_count": 147,
     "metadata": {},
     "output_type": "execute_result"
    }
   ],
   "source": [
    "# La marque qui génère le plus de CA :\n",
    "ventes.groupby('Produit')['Montant'].sum().sort_values(ascending=False)"
   ]
  },
  {
   "cell_type": "code",
   "execution_count": 146,
   "metadata": {},
   "outputs": [
    {
     "data": {
      "text/plain": [
       "Produit\n",
       "Badia              6965\n",
       "Why                5806\n",
       "Kros               3669\n",
       "Frecha             2458\n",
       "Contina            2442\n",
       "Spit               2339\n",
       "Château du lion    2319\n",
       "Dadi               1940\n",
       "fricht             1887\n",
       "Château Pierre     1843\n",
       "Scotty             1843\n",
       "Frutel             1726\n",
       "Delice             1684\n",
       "Sourcelle          1623\n",
       "Orana              1438\n",
       "Evie               1388\n",
       "Heine              1356\n",
       "Aprico             1289\n",
       "Acqua              1151\n",
       "Draught            1125\n",
       "cacolaa            1110\n",
       "Favala              828\n",
       "Perria              820\n",
       "Vitella             750\n",
       "Saint prieur        692\n",
       "Chateua de lay      433\n",
       "Mialena             425\n",
       "Name: Quantite, dtype: int64"
      ]
     },
     "execution_count": 146,
     "metadata": {},
     "output_type": "execute_result"
    }
   ],
   "source": [
    "# La marque la plus vendue (en volume) :\n",
    "ventes.groupby('Produit')['Quantite'].sum().sort_values(ascending=False)"
   ]
  },
  {
   "cell_type": "markdown",
   "metadata": {},
   "source": [
    "### Montant moyen d'une commande\n",
    "\n",
    "--> Il y a 830 commmandes au total  \n",
    "--> Le montant moyen d'une commande est de 654 €"
   ]
  },
  {
   "cell_type": "code",
   "execution_count": 148,
   "metadata": {},
   "outputs": [],
   "source": [
    "ventes_copy = ventes.copy()\n",
    "ventes_copy['mois_numero'] = ventes_copy['mois'].apply(\n",
    "                                                lambda x: '1' if x == 'janvier' \n",
    "                                                else '2' if x == 'février'\n",
    "                                                else '3' if x == 'mars'\n",
    "                                                else '4' if x == 'avril'\n",
    "                                                else '5' if x == 'mai'\n",
    "                                                else '6' if x == 'juin'\n",
    "                                                else '7' if x == 'juillet'\n",
    "                                                else '8' if x == 'août'\n",
    "                                                else '9' if x == 'septembre'\n",
    "                                                else '10' if x == 'octobre'\n",
    "                                                else '11' if x == 'novembre'\n",
    "                                                else '12' if x == 'décembre'\n",
    "                                                else ''\n",
    "                                                )"
   ]
  },
  {
   "cell_type": "code",
   "execution_count": 149,
   "metadata": {},
   "outputs": [
    {
     "data": {
      "text/plain": [
       "830"
      ]
     },
     "execution_count": 149,
     "metadata": {},
     "output_type": "execute_result"
    }
   ],
   "source": [
    "# Le nombre de commandes uniques :\n",
    "ventes['id Commande'].nunique()"
   ]
  },
  {
   "cell_type": "code",
   "execution_count": 187,
   "metadata": {},
   "outputs": [],
   "source": [
    "par_commande = ventes_copy.groupby('id Commande')\n",
    "calcul = pd.DataFrame({'total': par_commande['Montant'].sum(), 'annee': par_commande['annee'].max(), 'mois': par_commande['mois_numero'].max(), 'jour': par_commande['jour'].max()})"
   ]
  },
  {
   "cell_type": "code",
   "execution_count": 188,
   "metadata": {},
   "outputs": [
    {
     "data": {
      "text/plain": [
       "653.9556626506023"
      ]
     },
     "execution_count": 188,
     "metadata": {},
     "output_type": "execute_result"
    }
   ],
   "source": [
    "# Le montant moyen d'une commande : \n",
    "calcul['total'].mean()"
   ]
  },
  {
   "cell_type": "markdown",
   "metadata": {},
   "source": [
    "### Visualisation de l'évolution des ventes"
   ]
  },
  {
   "cell_type": "code",
   "execution_count": 189,
   "metadata": {},
   "outputs": [],
   "source": [
    "calcul_sorted = calcul.sort_values(by=['annee', 'mois', 'jour'], ascending=[True, True, True])"
   ]
  },
  {
   "cell_type": "code",
   "execution_count": 232,
   "metadata": {},
   "outputs": [],
   "source": [
    "calcul_sorted['date_str'] = calcul_sorted['annee'] + '-' + calcul_sorted['mois'] + '-' + calcul_sorted['jour']"
   ]
  },
  {
   "cell_type": "code",
   "execution_count": 191,
   "metadata": {},
   "outputs": [],
   "source": [
    "from datetime import datetime\n",
    "date_format = '%Y-%m-%d'\n",
    "calcul_sorted['datetime'] = calcul_sorted['date_str'].apply(lambda x: datetime.strptime(x, date_format))"
   ]
  },
  {
   "cell_type": "code",
   "execution_count": 192,
   "metadata": {},
   "outputs": [],
   "source": [
    "calcul_sorted = calcul_sorted.sort_values(by='datetime')"
   ]
  },
  {
   "cell_type": "code",
   "execution_count": 193,
   "metadata": {},
   "outputs": [
    {
     "data": {
      "text/html": [
       "<div>\n",
       "<style scoped>\n",
       "    .dataframe tbody tr th:only-of-type {\n",
       "        vertical-align: middle;\n",
       "    }\n",
       "\n",
       "    .dataframe tbody tr th {\n",
       "        vertical-align: top;\n",
       "    }\n",
       "\n",
       "    .dataframe thead th {\n",
       "        text-align: right;\n",
       "    }\n",
       "</style>\n",
       "<table border=\"1\" class=\"dataframe\">\n",
       "  <thead>\n",
       "    <tr style=\"text-align: right;\">\n",
       "      <th></th>\n",
       "      <th>total</th>\n",
       "      <th>annee</th>\n",
       "      <th>mois</th>\n",
       "      <th>jour</th>\n",
       "      <th>date_str</th>\n",
       "      <th>datetime</th>\n",
       "    </tr>\n",
       "    <tr>\n",
       "      <th>id Commande</th>\n",
       "      <th></th>\n",
       "      <th></th>\n",
       "      <th></th>\n",
       "      <th></th>\n",
       "      <th></th>\n",
       "      <th></th>\n",
       "    </tr>\n",
       "  </thead>\n",
       "  <tbody>\n",
       "    <tr>\n",
       "      <th>11044</th>\n",
       "      <td>60.0</td>\n",
       "      <td>2017</td>\n",
       "      <td>7</td>\n",
       "      <td>01</td>\n",
       "      <td>2017-7-01</td>\n",
       "      <td>2017-07-01</td>\n",
       "    </tr>\n",
       "    <tr>\n",
       "      <th>10998</th>\n",
       "      <td>1087.0</td>\n",
       "      <td>2017</td>\n",
       "      <td>7</td>\n",
       "      <td>02</td>\n",
       "      <td>2017-7-02</td>\n",
       "      <td>2017-07-02</td>\n",
       "    </tr>\n",
       "    <tr>\n",
       "      <th>10906</th>\n",
       "      <td>75.0</td>\n",
       "      <td>2017</td>\n",
       "      <td>7</td>\n",
       "      <td>08</td>\n",
       "      <td>2017-7-08</td>\n",
       "      <td>2017-07-08</td>\n",
       "    </tr>\n",
       "    <tr>\n",
       "      <th>10870</th>\n",
       "      <td>33.3</td>\n",
       "      <td>2017</td>\n",
       "      <td>7</td>\n",
       "      <td>08</td>\n",
       "      <td>2017-7-08</td>\n",
       "      <td>2017-07-08</td>\n",
       "    </tr>\n",
       "    <tr>\n",
       "      <th>10792</th>\n",
       "      <td>152.0</td>\n",
       "      <td>2017</td>\n",
       "      <td>7</td>\n",
       "      <td>09</td>\n",
       "      <td>2017-7-09</td>\n",
       "      <td>2017-07-09</td>\n",
       "    </tr>\n",
       "    <tr>\n",
       "      <th>10611</th>\n",
       "      <td>137.0</td>\n",
       "      <td>2017</td>\n",
       "      <td>7</td>\n",
       "      <td>10</td>\n",
       "      <td>2017-7-10</td>\n",
       "      <td>2017-07-10</td>\n",
       "    </tr>\n",
       "    <tr>\n",
       "      <th>10374</th>\n",
       "      <td>255.0</td>\n",
       "      <td>2017</td>\n",
       "      <td>7</td>\n",
       "      <td>11</td>\n",
       "      <td>2017-7-11</td>\n",
       "      <td>2017-07-11</td>\n",
       "    </tr>\n",
       "    <tr>\n",
       "      <th>11005</th>\n",
       "      <td>54.0</td>\n",
       "      <td>2017</td>\n",
       "      <td>7</td>\n",
       "      <td>12</td>\n",
       "      <td>2017-7-12</td>\n",
       "      <td>2017-07-12</td>\n",
       "    </tr>\n",
       "    <tr>\n",
       "      <th>10910</th>\n",
       "      <td>249.2</td>\n",
       "      <td>2017</td>\n",
       "      <td>7</td>\n",
       "      <td>15</td>\n",
       "      <td>2017-7-15</td>\n",
       "      <td>2017-07-15</td>\n",
       "    </tr>\n",
       "    <tr>\n",
       "      <th>10879</th>\n",
       "      <td>670.0</td>\n",
       "      <td>2017</td>\n",
       "      <td>7</td>\n",
       "      <td>16</td>\n",
       "      <td>2017-7-16</td>\n",
       "      <td>2017-07-16</td>\n",
       "    </tr>\n",
       "  </tbody>\n",
       "</table>\n",
       "</div>"
      ],
      "text/plain": [
       "              total annee mois jour   date_str   datetime\n",
       "id Commande                                              \n",
       "11044          60.0  2017    7   01  2017-7-01 2017-07-01\n",
       "10998        1087.0  2017    7   02  2017-7-02 2017-07-02\n",
       "10906          75.0  2017    7   08  2017-7-08 2017-07-08\n",
       "10870          33.3  2017    7   08  2017-7-08 2017-07-08\n",
       "10792         152.0  2017    7   09  2017-7-09 2017-07-09\n",
       "10611         137.0  2017    7   10  2017-7-10 2017-07-10\n",
       "10374         255.0  2017    7   11  2017-7-11 2017-07-11\n",
       "11005          54.0  2017    7   12  2017-7-12 2017-07-12\n",
       "10910         249.2  2017    7   15  2017-7-15 2017-07-15\n",
       "10879         670.0  2017    7   16  2017-7-16 2017-07-16"
      ]
     },
     "execution_count": 193,
     "metadata": {},
     "output_type": "execute_result"
    }
   ],
   "source": [
    "calcul_sorted.head(10)"
   ]
  },
  {
   "cell_type": "code",
   "execution_count": 194,
   "metadata": {},
   "outputs": [
    {
     "name": "stdout",
     "output_type": "stream",
     "text": [
      "<class 'str'>\n",
      "<class 'pandas._libs.tslibs.timestamps.Timestamp'>\n"
     ]
    }
   ],
   "source": [
    "print(type(calcul_sorted.loc[10998, 'date_str']))\n",
    "print(type(calcul_sorted.loc[10998, 'datetime']))"
   ]
  },
  {
   "cell_type": "markdown",
   "metadata": {},
   "source": [
    "### Graphiques"
   ]
  },
  {
   "cell_type": "code",
   "execution_count": 179,
   "metadata": {},
   "outputs": [
    {
     "data": {
      "image/png": "[encoded data removed]",
      "text/plain": [
       "<Figure size 1200x500 with 1 Axes>"
      ]
     },
     "metadata": {},
     "output_type": "display_data"
    }
   ],
   "source": [
    "plt.figure(figsize=(12,5))\n",
    "sns.lineplot(data=calcul_sorted, x=\"datetime\", y=\"total\")\n",
    "plt.title('Evolution des ventes globales')\n",
    "plt.xlabel('Date')\n",
    "plt.ylabel('CA')\n",
    "plt.xticks(fontsize=8, rotation=60, ha=\"right\")\n",
    "plt.show()"
   ]
  },
  {
   "cell_type": "code",
   "execution_count": 180,
   "metadata": {},
   "outputs": [
    {
     "data": {
      "text/html": [
       "<div>\n",
       "<style scoped>\n",
       "    .dataframe tbody tr th:only-of-type {\n",
       "        vertical-align: middle;\n",
       "    }\n",
       "\n",
       "    .dataframe tbody tr th {\n",
       "        vertical-align: top;\n",
       "    }\n",
       "\n",
       "    .dataframe thead th {\n",
       "        text-align: right;\n",
       "    }\n",
       "</style>\n",
       "<table border=\"1\" class=\"dataframe\">\n",
       "  <thead>\n",
       "    <tr style=\"text-align: right;\">\n",
       "      <th></th>\n",
       "      <th>id Commande</th>\n",
       "      <th>total</th>\n",
       "      <th>annee</th>\n",
       "      <th>mois</th>\n",
       "      <th>jour</th>\n",
       "      <th>date_str</th>\n",
       "      <th>datetime</th>\n",
       "    </tr>\n",
       "  </thead>\n",
       "  <tbody>\n",
       "    <tr>\n",
       "      <th>796</th>\n",
       "      <td>11044</td>\n",
       "      <td>60.0</td>\n",
       "      <td>2017</td>\n",
       "      <td>7</td>\n",
       "      <td>01</td>\n",
       "      <td>2017-7-01</td>\n",
       "      <td>2017-07-01</td>\n",
       "    </tr>\n",
       "    <tr>\n",
       "      <th>750</th>\n",
       "      <td>10998</td>\n",
       "      <td>1087.0</td>\n",
       "      <td>2017</td>\n",
       "      <td>7</td>\n",
       "      <td>02</td>\n",
       "      <td>2017-7-02</td>\n",
       "      <td>2017-07-02</td>\n",
       "    </tr>\n",
       "    <tr>\n",
       "      <th>658</th>\n",
       "      <td>10906</td>\n",
       "      <td>75.0</td>\n",
       "      <td>2017</td>\n",
       "      <td>7</td>\n",
       "      <td>08</td>\n",
       "      <td>2017-7-08</td>\n",
       "      <td>2017-07-08</td>\n",
       "    </tr>\n",
       "    <tr>\n",
       "      <th>622</th>\n",
       "      <td>10870</td>\n",
       "      <td>33.3</td>\n",
       "      <td>2017</td>\n",
       "      <td>7</td>\n",
       "      <td>08</td>\n",
       "      <td>2017-7-08</td>\n",
       "      <td>2017-07-08</td>\n",
       "    </tr>\n",
       "    <tr>\n",
       "      <th>544</th>\n",
       "      <td>10792</td>\n",
       "      <td>152.0</td>\n",
       "      <td>2017</td>\n",
       "      <td>7</td>\n",
       "      <td>09</td>\n",
       "      <td>2017-7-09</td>\n",
       "      <td>2017-07-09</td>\n",
       "    </tr>\n",
       "    <tr>\n",
       "      <th>...</th>\n",
       "      <td>...</td>\n",
       "      <td>...</td>\n",
       "      <td>...</td>\n",
       "      <td>...</td>\n",
       "      <td>...</td>\n",
       "      <td>...</td>\n",
       "      <td>...</td>\n",
       "    </tr>\n",
       "    <tr>\n",
       "      <th>377</th>\n",
       "      <td>10625</td>\n",
       "      <td>89.5</td>\n",
       "      <td>2019</td>\n",
       "      <td>5</td>\n",
       "      <td>05</td>\n",
       "      <td>2019-5-05</td>\n",
       "      <td>2019-05-05</td>\n",
       "    </tr>\n",
       "    <tr>\n",
       "      <th>587</th>\n",
       "      <td>10835</td>\n",
       "      <td>131.0</td>\n",
       "      <td>2019</td>\n",
       "      <td>5</td>\n",
       "      <td>06</td>\n",
       "      <td>2019-5-06</td>\n",
       "      <td>2019-05-06</td>\n",
       "    </tr>\n",
       "    <tr>\n",
       "      <th>704</th>\n",
       "      <td>10952</td>\n",
       "      <td>84.4</td>\n",
       "      <td>2019</td>\n",
       "      <td>5</td>\n",
       "      <td>06</td>\n",
       "      <td>2019-5-06</td>\n",
       "      <td>2019-05-06</td>\n",
       "    </tr>\n",
       "    <tr>\n",
       "      <th>454</th>\n",
       "      <td>10702</td>\n",
       "      <td>483.0</td>\n",
       "      <td>2019</td>\n",
       "      <td>5</td>\n",
       "      <td>06</td>\n",
       "      <td>2019-5-06</td>\n",
       "      <td>2019-05-06</td>\n",
       "    </tr>\n",
       "    <tr>\n",
       "      <th>763</th>\n",
       "      <td>11011</td>\n",
       "      <td>760.0</td>\n",
       "      <td>2019</td>\n",
       "      <td>5</td>\n",
       "      <td>06</td>\n",
       "      <td>2019-5-06</td>\n",
       "      <td>2019-05-06</td>\n",
       "    </tr>\n",
       "  </tbody>\n",
       "</table>\n",
       "<p>830 rows × 7 columns</p>\n",
       "</div>"
      ],
      "text/plain": [
       "     id Commande   total annee mois jour   date_str   datetime\n",
       "796        11044    60.0  2017    7   01  2017-7-01 2017-07-01\n",
       "750        10998  1087.0  2017    7   02  2017-7-02 2017-07-02\n",
       "658        10906    75.0  2017    7   08  2017-7-08 2017-07-08\n",
       "622        10870    33.3  2017    7   08  2017-7-08 2017-07-08\n",
       "544        10792   152.0  2017    7   09  2017-7-09 2017-07-09\n",
       "..           ...     ...   ...  ...  ...        ...        ...\n",
       "377        10625    89.5  2019    5   05  2019-5-05 2019-05-05\n",
       "587        10835   131.0  2019    5   06  2019-5-06 2019-05-06\n",
       "704        10952    84.4  2019    5   06  2019-5-06 2019-05-06\n",
       "454        10702   483.0  2019    5   06  2019-5-06 2019-05-06\n",
       "763        11011   760.0  2019    5   06  2019-5-06 2019-05-06\n",
       "\n",
       "[830 rows x 7 columns]"
      ]
     },
     "execution_count": 180,
     "metadata": {},
     "output_type": "execute_result"
    }
   ],
   "source": [
    "calcul_sorted"
   ]
  },
  {
   "cell_type": "code",
   "execution_count": 224,
   "metadata": {},
   "outputs": [
    {
     "data": {
      "image/png": "[encoded data removed]",
      "text/plain": [
       "<Figure size 700x400 with 1 Axes>"
      ]
     },
     "metadata": {},
     "output_type": "display_data"
    }
   ],
   "source": [
    "# Représentation en barres pour l'année 2008 :\n",
    "plt.figure(figsize=(7,4))\n",
    "sns.barplot(data=calcul_sorted[calcul_sorted['annee']=='2018'], x=\"mois\", y=\"total\")\n",
    "plt.title('Evolution des ventes en 2018')\n",
    "plt.xlabel('')\n",
    "plt.ylabel('Montant')\n",
    "plt.xticks([i for i in range(0,12)], ['jan', 'fev', 'mar', 'avr', 'mai', 'jun', 'jui', 'aou', 'sep', 'oct', 'nov', 'dec'], fontsize=10, rotation=60, ha=\"right\")\n",
    "plt.show()"
   ]
  },
  {
   "cell_type": "markdown",
   "metadata": {},
   "source": [
    "### Performance des vendeurs"
   ]
  },
  {
   "cell_type": "code",
   "execution_count": 195,
   "metadata": {},
   "outputs": [],
   "source": [
    "# Lecture des données csv :\n",
    "vendeurs = pd.read_csv('./src/employes.csv', sep=';')\n",
    "vendeurs.drop(columns='Unnamed: 4', inplace=True)"
   ]
  },
  {
   "cell_type": "code",
   "execution_count": 196,
   "metadata": {},
   "outputs": [
    {
     "data": {
      "text/plain": [
       "id Employe\n",
       "1    123\n",
       "2     96\n",
       "3    127\n",
       "4    156\n",
       "5     42\n",
       "6     67\n",
       "7     72\n",
       "8    104\n",
       "9     43\n",
       "Name: id Commande, dtype: int64"
      ]
     },
     "execution_count": 196,
     "metadata": {},
     "output_type": "execute_result"
    }
   ],
   "source": [
    "# Nombre de commandes par vendeur :\n",
    "ventes.groupby('id Employe')['id Commande'].nunique()"
   ]
  },
  {
   "cell_type": "code",
   "execution_count": 197,
   "metadata": {},
   "outputs": [
    {
     "data": {
      "text/plain": [
       "id Employe\n",
       "1    14.819277\n",
       "2    11.566265\n",
       "3    15.301205\n",
       "4    18.795181\n",
       "5     5.060241\n",
       "6     8.072289\n",
       "7     8.674699\n",
       "8    12.530120\n",
       "9     5.180723\n",
       "Name: id Commande, dtype: float64"
      ]
     },
     "execution_count": 197,
     "metadata": {},
     "output_type": "execute_result"
    }
   ],
   "source": [
    "# En pourcentage :\n",
    "ventes.groupby('id Employe')['id Commande'].nunique()/830*100 "
   ]
  },
  {
   "cell_type": "code",
   "execution_count": 198,
   "metadata": {},
   "outputs": [
    {
     "data": {
      "text/html": [
       "<div>\n",
       "<style scoped>\n",
       "    .dataframe tbody tr th:only-of-type {\n",
       "        vertical-align: middle;\n",
       "    }\n",
       "\n",
       "    .dataframe tbody tr th {\n",
       "        vertical-align: top;\n",
       "    }\n",
       "\n",
       "    .dataframe thead th {\n",
       "        text-align: right;\n",
       "    }\n",
       "</style>\n",
       "<table border=\"1\" class=\"dataframe\">\n",
       "  <thead>\n",
       "    <tr style=\"text-align: right;\">\n",
       "      <th></th>\n",
       "      <th>id Employe</th>\n",
       "      <th>par employe</th>\n",
       "    </tr>\n",
       "  </thead>\n",
       "  <tbody>\n",
       "    <tr>\n",
       "      <th>0</th>\n",
       "      <td>1</td>\n",
       "      <td>86532.3</td>\n",
       "    </tr>\n",
       "    <tr>\n",
       "      <th>1</th>\n",
       "      <td>2</td>\n",
       "      <td>57848.0</td>\n",
       "    </tr>\n",
       "    <tr>\n",
       "      <th>2</th>\n",
       "      <td>3</td>\n",
       "      <td>85978.0</td>\n",
       "    </tr>\n",
       "    <tr>\n",
       "      <th>3</th>\n",
       "      <td>4</td>\n",
       "      <td>106733.4</td>\n",
       "    </tr>\n",
       "    <tr>\n",
       "      <th>4</th>\n",
       "      <td>5</td>\n",
       "      <td>32701.9</td>\n",
       "    </tr>\n",
       "    <tr>\n",
       "      <th>5</th>\n",
       "      <td>6</td>\n",
       "      <td>36715.5</td>\n",
       "    </tr>\n",
       "    <tr>\n",
       "      <th>6</th>\n",
       "      <td>7</td>\n",
       "      <td>47167.7</td>\n",
       "    </tr>\n",
       "    <tr>\n",
       "      <th>7</th>\n",
       "      <td>8</td>\n",
       "      <td>62555.5</td>\n",
       "    </tr>\n",
       "    <tr>\n",
       "      <th>8</th>\n",
       "      <td>9</td>\n",
       "      <td>26550.9</td>\n",
       "    </tr>\n",
       "  </tbody>\n",
       "</table>\n",
       "</div>"
      ],
      "text/plain": [
       "   id Employe  par employe\n",
       "0           1      86532.3\n",
       "1           2      57848.0\n",
       "2           3      85978.0\n",
       "3           4     106733.4\n",
       "4           5      32701.9\n",
       "5           6      36715.5\n",
       "6           7      47167.7\n",
       "7           8      62555.5\n",
       "8           9      26550.9"
      ]
     },
     "execution_count": 198,
     "metadata": {},
     "output_type": "execute_result"
    }
   ],
   "source": [
    "# Le CA généré par vendeur :\n",
    "temp = ventes.groupby('id Employe')\n",
    "par_employe = pd.DataFrame({'par employe': temp['Montant'].sum()}).reset_index()\n",
    "par_employe"
   ]
  },
  {
   "cell_type": "code",
   "execution_count": 199,
   "metadata": {},
   "outputs": [
    {
     "data": {
      "text/html": [
       "<div>\n",
       "<style scoped>\n",
       "    .dataframe tbody tr th:only-of-type {\n",
       "        vertical-align: middle;\n",
       "    }\n",
       "\n",
       "    .dataframe tbody tr th {\n",
       "        vertical-align: top;\n",
       "    }\n",
       "\n",
       "    .dataframe thead th {\n",
       "        text-align: right;\n",
       "    }\n",
       "</style>\n",
       "<table border=\"1\" class=\"dataframe\">\n",
       "  <thead>\n",
       "    <tr style=\"text-align: right;\">\n",
       "      <th></th>\n",
       "      <th>id Employe</th>\n",
       "      <th>par employe</th>\n",
       "    </tr>\n",
       "  </thead>\n",
       "  <tbody>\n",
       "    <tr>\n",
       "      <th>3</th>\n",
       "      <td>4</td>\n",
       "      <td>106733.4</td>\n",
       "    </tr>\n",
       "    <tr>\n",
       "      <th>0</th>\n",
       "      <td>1</td>\n",
       "      <td>86532.3</td>\n",
       "    </tr>\n",
       "    <tr>\n",
       "      <th>2</th>\n",
       "      <td>3</td>\n",
       "      <td>85978.0</td>\n",
       "    </tr>\n",
       "    <tr>\n",
       "      <th>7</th>\n",
       "      <td>8</td>\n",
       "      <td>62555.5</td>\n",
       "    </tr>\n",
       "    <tr>\n",
       "      <th>1</th>\n",
       "      <td>2</td>\n",
       "      <td>57848.0</td>\n",
       "    </tr>\n",
       "    <tr>\n",
       "      <th>6</th>\n",
       "      <td>7</td>\n",
       "      <td>47167.7</td>\n",
       "    </tr>\n",
       "    <tr>\n",
       "      <th>5</th>\n",
       "      <td>6</td>\n",
       "      <td>36715.5</td>\n",
       "    </tr>\n",
       "    <tr>\n",
       "      <th>4</th>\n",
       "      <td>5</td>\n",
       "      <td>32701.9</td>\n",
       "    </tr>\n",
       "    <tr>\n",
       "      <th>8</th>\n",
       "      <td>9</td>\n",
       "      <td>26550.9</td>\n",
       "    </tr>\n",
       "  </tbody>\n",
       "</table>\n",
       "</div>"
      ],
      "text/plain": [
       "   id Employe  par employe\n",
       "3           4     106733.4\n",
       "0           1      86532.3\n",
       "2           3      85978.0\n",
       "7           8      62555.5\n",
       "1           2      57848.0\n",
       "6           7      47167.7\n",
       "5           6      36715.5\n",
       "4           5      32701.9\n",
       "8           9      26550.9"
      ]
     },
     "execution_count": 199,
     "metadata": {},
     "output_type": "execute_result"
    }
   ],
   "source": [
    "# Les meilleures performances des vendeurs :\n",
    "par_employe.sort_values(by='par employe', ascending=False)"
   ]
  },
  {
   "cell_type": "code",
   "execution_count": 200,
   "metadata": {},
   "outputs": [
    {
     "data": {
      "text/html": [
       "<div>\n",
       "<style scoped>\n",
       "    .dataframe tbody tr th:only-of-type {\n",
       "        vertical-align: middle;\n",
       "    }\n",
       "\n",
       "    .dataframe tbody tr th {\n",
       "        vertical-align: top;\n",
       "    }\n",
       "\n",
       "    .dataframe thead th {\n",
       "        text-align: right;\n",
       "    }\n",
       "</style>\n",
       "<table border=\"1\" class=\"dataframe\">\n",
       "  <thead>\n",
       "    <tr style=\"text-align: right;\">\n",
       "      <th></th>\n",
       "      <th>id Employe</th>\n",
       "      <th>par employe</th>\n",
       "      <th>Nom Vendeur</th>\n",
       "      <th>Prenom</th>\n",
       "      <th>Service</th>\n",
       "    </tr>\n",
       "  </thead>\n",
       "  <tbody>\n",
       "    <tr>\n",
       "      <th>3</th>\n",
       "      <td>4</td>\n",
       "      <td>106733.4</td>\n",
       "      <td>Favier</td>\n",
       "      <td>Erwan</td>\n",
       "      <td>AC2</td>\n",
       "    </tr>\n",
       "    <tr>\n",
       "      <th>0</th>\n",
       "      <td>1</td>\n",
       "      <td>86532.3</td>\n",
       "      <td>Weil</td>\n",
       "      <td>Emma</td>\n",
       "      <td>CO1</td>\n",
       "    </tr>\n",
       "    <tr>\n",
       "      <th>2</th>\n",
       "      <td>3</td>\n",
       "      <td>85978.0</td>\n",
       "      <td>Vesoul</td>\n",
       "      <td>Claude</td>\n",
       "      <td>AC1</td>\n",
       "    </tr>\n",
       "  </tbody>\n",
       "</table>\n",
       "</div>"
      ],
      "text/plain": [
       "   id Employe  par employe Nom Vendeur  Prenom Service\n",
       "3           4     106733.4      Favier   Erwan     AC2\n",
       "0           1      86532.3        Weil    Emma     CO1\n",
       "2           3      85978.0      Vesoul  Claude     AC1"
      ]
     },
     "execution_count": 200,
     "metadata": {},
     "output_type": "execute_result"
    }
   ],
   "source": [
    "# Top 3 meilleurs vendeurs :\n",
    "best_perf = pd.merge(par_employe, vendeurs, left_on='id Employe', right_on='Id Employe', how='left')\n",
    "best_perf.drop(columns='Id Employe', inplace=True)\n",
    "best_perf.sort_values(by='par employe', ascending=False).head(3)"
   ]
  },
  {
   "cell_type": "code",
   "execution_count": 201,
   "metadata": {},
   "outputs": [
    {
     "data": {
      "text/html": [
       "<div>\n",
       "<style scoped>\n",
       "    .dataframe tbody tr th:only-of-type {\n",
       "        vertical-align: middle;\n",
       "    }\n",
       "\n",
       "    .dataframe tbody tr th {\n",
       "        vertical-align: top;\n",
       "    }\n",
       "\n",
       "    .dataframe thead th {\n",
       "        text-align: right;\n",
       "    }\n",
       "</style>\n",
       "<table border=\"1\" class=\"dataframe\">\n",
       "  <thead>\n",
       "    <tr style=\"text-align: right;\">\n",
       "      <th></th>\n",
       "      <th>id Employe</th>\n",
       "      <th>Quantite</th>\n",
       "      <th>Nom Vendeur</th>\n",
       "      <th>Prenom</th>\n",
       "      <th>Service</th>\n",
       "    </tr>\n",
       "  </thead>\n",
       "  <tbody>\n",
       "    <tr>\n",
       "      <th>0</th>\n",
       "      <td>4</td>\n",
       "      <td>9783</td>\n",
       "      <td>Favier</td>\n",
       "      <td>Erwan</td>\n",
       "      <td>AC2</td>\n",
       "    </tr>\n",
       "    <tr>\n",
       "      <th>1</th>\n",
       "      <td>3</td>\n",
       "      <td>7852</td>\n",
       "      <td>Vesoul</td>\n",
       "      <td>Claude</td>\n",
       "      <td>AC1</td>\n",
       "    </tr>\n",
       "    <tr>\n",
       "      <th>2</th>\n",
       "      <td>1</td>\n",
       "      <td>7819</td>\n",
       "      <td>Weil</td>\n",
       "      <td>Emma</td>\n",
       "      <td>CO1</td>\n",
       "    </tr>\n",
       "  </tbody>\n",
       "</table>\n",
       "</div>"
      ],
      "text/plain": [
       "   id Employe  Quantite Nom Vendeur  Prenom Service\n",
       "0           4      9783      Favier   Erwan     AC2\n",
       "1           3      7852      Vesoul  Claude     AC1\n",
       "2           1      7819        Weil    Emma     CO1"
      ]
     },
     "execution_count": 201,
     "metadata": {},
     "output_type": "execute_result"
    }
   ],
   "source": [
    "# Top 3 meilleurs vendeurs (en volume) :\n",
    "par_volume = ventes.groupby('id Employe')['Quantite'].sum().sort_values(ascending=False).to_frame().reset_index()\n",
    "best_volume = pd.merge(par_volume, vendeurs, left_on='id Employe', right_on='Id Employe', how='left')\n",
    "best_volume.drop(columns='Id Employe', inplace=True)\n",
    "best_volume.sort_values(by='Quantite', ascending=False).head(3)"
   ]
  },
  {
   "cell_type": "markdown",
   "metadata": {},
   "source": [
    "### Clients & critère géographique\n",
    "\n",
    "Nous observons ceci : \n",
    "\n",
    "- Les 3 meilleurs clients sont Belges, Chiliens et Espagnols ;\n",
    "- Les ventes s'effectuent dans 23 pays et 69 villes différentes ; \n",
    "- La France est le pays qui enregistre le plus de commandes ; \n",
    "- Lille est la ville qui enregistre le plus de commandes ;\n",
    "- Le CA moyen généré par client est de 7237 € ;\n",
    "- La France, les Etats-Unis et la Belgique réalisent le plus de CA."
   ]
  },
  {
   "cell_type": "code",
   "execution_count": 202,
   "metadata": {},
   "outputs": [
    {
     "data": {
      "text/html": [
       "<div>\n",
       "<style scoped>\n",
       "    .dataframe tbody tr th:only-of-type {\n",
       "        vertical-align: middle;\n",
       "    }\n",
       "\n",
       "    .dataframe tbody tr th {\n",
       "        vertical-align: top;\n",
       "    }\n",
       "\n",
       "    .dataframe thead th {\n",
       "        text-align: right;\n",
       "    }\n",
       "</style>\n",
       "<table border=\"1\" class=\"dataframe\">\n",
       "  <thead>\n",
       "    <tr style=\"text-align: right;\">\n",
       "      <th></th>\n",
       "      <th>id Client</th>\n",
       "      <th>par client</th>\n",
       "    </tr>\n",
       "  </thead>\n",
       "  <tbody>\n",
       "    <tr>\n",
       "      <th>0</th>\n",
       "      <td>31</td>\n",
       "      <td>38148.6</td>\n",
       "    </tr>\n",
       "    <tr>\n",
       "      <th>1</th>\n",
       "      <td>20</td>\n",
       "      <td>37633.8</td>\n",
       "    </tr>\n",
       "    <tr>\n",
       "      <th>2</th>\n",
       "      <td>19</td>\n",
       "      <td>35652.3</td>\n",
       "    </tr>\n",
       "    <tr>\n",
       "      <th>3</th>\n",
       "      <td>32</td>\n",
       "      <td>23086.1</td>\n",
       "    </tr>\n",
       "    <tr>\n",
       "      <th>4</th>\n",
       "      <td>7</td>\n",
       "      <td>18940.6</td>\n",
       "    </tr>\n",
       "    <tr>\n",
       "      <th>5</th>\n",
       "      <td>35</td>\n",
       "      <td>15383.3</td>\n",
       "    </tr>\n",
       "    <tr>\n",
       "      <th>6</th>\n",
       "      <td>21</td>\n",
       "      <td>14697.8</td>\n",
       "    </tr>\n",
       "    <tr>\n",
       "      <th>7</th>\n",
       "      <td>34</td>\n",
       "      <td>14277.1</td>\n",
       "    </tr>\n",
       "    <tr>\n",
       "      <th>8</th>\n",
       "      <td>30</td>\n",
       "      <td>13722.1</td>\n",
       "    </tr>\n",
       "    <tr>\n",
       "      <th>9</th>\n",
       "      <td>9</td>\n",
       "      <td>13120.8</td>\n",
       "    </tr>\n",
       "  </tbody>\n",
       "</table>\n",
       "</div>"
      ],
      "text/plain": [
       "   id Client  par client\n",
       "0         31     38148.6\n",
       "1         20     37633.8\n",
       "2         19     35652.3\n",
       "3         32     23086.1\n",
       "4          7     18940.6\n",
       "5         35     15383.3\n",
       "6         21     14697.8\n",
       "7         34     14277.1\n",
       "8         30     13722.1\n",
       "9          9     13120.8"
      ]
     },
     "execution_count": 202,
     "metadata": {},
     "output_type": "execute_result"
    }
   ],
   "source": [
    "# Les meilleurs clients en terme de CA généré :\n",
    "temp = ventes.groupby('id Client')\n",
    "par_client = pd.DataFrame({'par client': temp['Montant'].sum().sort_values(ascending=False)}).reset_index()\n",
    "par_client.head(10)"
   ]
  },
  {
   "cell_type": "code",
   "execution_count": 203,
   "metadata": {},
   "outputs": [
    {
     "data": {
      "text/html": [
       "<div>\n",
       "<style scoped>\n",
       "    .dataframe tbody tr th:only-of-type {\n",
       "        vertical-align: middle;\n",
       "    }\n",
       "\n",
       "    .dataframe tbody tr th {\n",
       "        vertical-align: top;\n",
       "    }\n",
       "\n",
       "    .dataframe thead th {\n",
       "        text-align: right;\n",
       "    }\n",
       "</style>\n",
       "<table border=\"1\" class=\"dataframe\">\n",
       "  <thead>\n",
       "    <tr style=\"text-align: right;\">\n",
       "      <th></th>\n",
       "      <th>id Client</th>\n",
       "      <th>par client</th>\n",
       "      <th>Societe</th>\n",
       "      <th>Ville</th>\n",
       "      <th>Pays</th>\n",
       "    </tr>\n",
       "  </thead>\n",
       "  <tbody>\n",
       "    <tr>\n",
       "      <th>0</th>\n",
       "      <td>31</td>\n",
       "      <td>38148.6</td>\n",
       "      <td>Alimat</td>\n",
       "      <td>Bruxelles</td>\n",
       "      <td>Belgique</td>\n",
       "    </tr>\n",
       "    <tr>\n",
       "      <th>1</th>\n",
       "      <td>20</td>\n",
       "      <td>37633.8</td>\n",
       "      <td>Elpozo</td>\n",
       "      <td>Santiago</td>\n",
       "      <td>Chili</td>\n",
       "    </tr>\n",
       "    <tr>\n",
       "      <th>2</th>\n",
       "      <td>19</td>\n",
       "      <td>35652.3</td>\n",
       "      <td>Miguel</td>\n",
       "      <td>Alicante</td>\n",
       "      <td>Espagne</td>\n",
       "    </tr>\n",
       "    <tr>\n",
       "      <th>3</th>\n",
       "      <td>32</td>\n",
       "      <td>23086.1</td>\n",
       "      <td>Heine</td>\n",
       "      <td>Amsterdam</td>\n",
       "      <td>Pays Bas</td>\n",
       "    </tr>\n",
       "    <tr>\n",
       "      <th>4</th>\n",
       "      <td>7</td>\n",
       "      <td>18940.6</td>\n",
       "      <td>Local et compagine</td>\n",
       "      <td>Rouen</td>\n",
       "      <td>France</td>\n",
       "    </tr>\n",
       "    <tr>\n",
       "      <th>5</th>\n",
       "      <td>35</td>\n",
       "      <td>15383.3</td>\n",
       "      <td>Hershey</td>\n",
       "      <td>Los Angeles</td>\n",
       "      <td>Etats Unis</td>\n",
       "    </tr>\n",
       "    <tr>\n",
       "      <th>6</th>\n",
       "      <td>21</td>\n",
       "      <td>14697.8</td>\n",
       "      <td>Freixe</td>\n",
       "      <td>Coquimbo</td>\n",
       "      <td>Chili</td>\n",
       "    </tr>\n",
       "    <tr>\n",
       "      <th>7</th>\n",
       "      <td>34</td>\n",
       "      <td>14277.1</td>\n",
       "      <td>Westley</td>\n",
       "      <td>Las Vegas</td>\n",
       "      <td>Etats Unis</td>\n",
       "    </tr>\n",
       "    <tr>\n",
       "      <th>8</th>\n",
       "      <td>30</td>\n",
       "      <td>13722.1</td>\n",
       "      <td>Ko Food</td>\n",
       "      <td>Anvers</td>\n",
       "      <td>Belgique</td>\n",
       "    </tr>\n",
       "    <tr>\n",
       "      <th>9</th>\n",
       "      <td>9</td>\n",
       "      <td>13120.8</td>\n",
       "      <td>Krot</td>\n",
       "      <td>Stuttgart</td>\n",
       "      <td>Allemagne</td>\n",
       "    </tr>\n",
       "  </tbody>\n",
       "</table>\n",
       "</div>"
      ],
      "text/plain": [
       "   id Client  par client             Societe        Ville        Pays\n",
       "0         31     38148.6              Alimat    Bruxelles    Belgique\n",
       "1         20     37633.8              Elpozo     Santiago       Chili\n",
       "2         19     35652.3              Miguel     Alicante     Espagne\n",
       "3         32     23086.1               Heine    Amsterdam    Pays Bas\n",
       "4          7     18940.6  Local et compagine        Rouen      France\n",
       "5         35     15383.3             Hershey  Los Angeles  Etats Unis\n",
       "6         21     14697.8              Freixe     Coquimbo       Chili\n",
       "7         34     14277.1             Westley    Las Vegas  Etats Unis\n",
       "8         30     13722.1             Ko Food       Anvers    Belgique\n",
       "9          9     13120.8                Krot    Stuttgart   Allemagne"
      ]
     },
     "execution_count": 203,
     "metadata": {},
     "output_type": "execute_result"
    }
   ],
   "source": [
    "# Top 10 meilleurs clients :\n",
    "par_client_enrichi = pd.merge(par_client, clients, left_on='id Client', right_on='Id Client', how='left')\n",
    "par_client_enrichi.drop(columns='Id Client', inplace=True)\n",
    "par_client_enrichi.head(10)"
   ]
  },
  {
   "cell_type": "code",
   "execution_count": 205,
   "metadata": {},
   "outputs": [
    {
     "data": {
      "text/html": [
       "<div>\n",
       "<style scoped>\n",
       "    .dataframe tbody tr th:only-of-type {\n",
       "        vertical-align: middle;\n",
       "    }\n",
       "\n",
       "    .dataframe tbody tr th {\n",
       "        vertical-align: top;\n",
       "    }\n",
       "\n",
       "    .dataframe thead th {\n",
       "        text-align: right;\n",
       "    }\n",
       "</style>\n",
       "<table border=\"1\" class=\"dataframe\">\n",
       "  <thead>\n",
       "    <tr style=\"text-align: right;\">\n",
       "      <th></th>\n",
       "      <th>id Client</th>\n",
       "      <th>par client</th>\n",
       "      <th>Societe</th>\n",
       "      <th>Ville</th>\n",
       "      <th>Pays</th>\n",
       "    </tr>\n",
       "  </thead>\n",
       "  <tbody>\n",
       "    <tr>\n",
       "      <th>count</th>\n",
       "      <td>75.000000</td>\n",
       "      <td>75.000000</td>\n",
       "      <td>75</td>\n",
       "      <td>75</td>\n",
       "      <td>75</td>\n",
       "    </tr>\n",
       "    <tr>\n",
       "      <th>unique</th>\n",
       "      <td>NaN</td>\n",
       "      <td>NaN</td>\n",
       "      <td>75</td>\n",
       "      <td>69</td>\n",
       "      <td>23</td>\n",
       "    </tr>\n",
       "    <tr>\n",
       "      <th>top</th>\n",
       "      <td>NaN</td>\n",
       "      <td>NaN</td>\n",
       "      <td>Alimat</td>\n",
       "      <td>Lille</td>\n",
       "      <td>France</td>\n",
       "    </tr>\n",
       "    <tr>\n",
       "      <th>freq</th>\n",
       "      <td>NaN</td>\n",
       "      <td>NaN</td>\n",
       "      <td>1</td>\n",
       "      <td>2</td>\n",
       "      <td>14</td>\n",
       "    </tr>\n",
       "    <tr>\n",
       "      <th>mean</th>\n",
       "      <td>38.000000</td>\n",
       "      <td>7237.109333</td>\n",
       "      <td>NaN</td>\n",
       "      <td>NaN</td>\n",
       "      <td>NaN</td>\n",
       "    </tr>\n",
       "    <tr>\n",
       "      <th>std</th>\n",
       "      <td>21.794495</td>\n",
       "      <td>7784.992095</td>\n",
       "      <td>NaN</td>\n",
       "      <td>NaN</td>\n",
       "      <td>NaN</td>\n",
       "    </tr>\n",
       "    <tr>\n",
       "      <th>min</th>\n",
       "      <td>1.000000</td>\n",
       "      <td>62.000000</td>\n",
       "      <td>NaN</td>\n",
       "      <td>NaN</td>\n",
       "      <td>NaN</td>\n",
       "    </tr>\n",
       "    <tr>\n",
       "      <th>25%</th>\n",
       "      <td>19.500000</td>\n",
       "      <td>2252.500000</td>\n",
       "      <td>NaN</td>\n",
       "      <td>NaN</td>\n",
       "      <td>NaN</td>\n",
       "    </tr>\n",
       "    <tr>\n",
       "      <th>50%</th>\n",
       "      <td>38.000000</td>\n",
       "      <td>5464.000000</td>\n",
       "      <td>NaN</td>\n",
       "      <td>NaN</td>\n",
       "      <td>NaN</td>\n",
       "    </tr>\n",
       "    <tr>\n",
       "      <th>75%</th>\n",
       "      <td>56.500000</td>\n",
       "      <td>9390.400000</td>\n",
       "      <td>NaN</td>\n",
       "      <td>NaN</td>\n",
       "      <td>NaN</td>\n",
       "    </tr>\n",
       "    <tr>\n",
       "      <th>max</th>\n",
       "      <td>75.000000</td>\n",
       "      <td>38148.600000</td>\n",
       "      <td>NaN</td>\n",
       "      <td>NaN</td>\n",
       "      <td>NaN</td>\n",
       "    </tr>\n",
       "  </tbody>\n",
       "</table>\n",
       "</div>"
      ],
      "text/plain": [
       "        id Client    par client Societe  Ville    Pays\n",
       "count   75.000000     75.000000      75     75      75\n",
       "unique        NaN           NaN      75     69      23\n",
       "top           NaN           NaN  Alimat  Lille  France\n",
       "freq          NaN           NaN       1      2      14\n",
       "mean    38.000000   7237.109333     NaN    NaN     NaN\n",
       "std     21.794495   7784.992095     NaN    NaN     NaN\n",
       "min      1.000000     62.000000     NaN    NaN     NaN\n",
       "25%     19.500000   2252.500000     NaN    NaN     NaN\n",
       "50%     38.000000   5464.000000     NaN    NaN     NaN\n",
       "75%     56.500000   9390.400000     NaN    NaN     NaN\n",
       "max     75.000000  38148.600000     NaN    NaN     NaN"
      ]
     },
     "execution_count": 205,
     "metadata": {},
     "output_type": "execute_result"
    }
   ],
   "source": [
    "# Statistiques basiques :\n",
    "par_client_enrichi.describe(include='all')"
   ]
  },
  {
   "cell_type": "code",
   "execution_count": 215,
   "metadata": {},
   "outputs": [
    {
     "data": {
      "text/plain": [
       "Pays\n",
       "France         63972.4\n",
       "Etats Unis     63459.3\n",
       "Belgique       60634.5\n",
       "Chili          52331.6\n",
       "Allemagne      51780.2\n",
       "Espagne        44129.2\n",
       "Pays Bas       29103.2\n",
       "Canada         21766.4\n",
       "Suede          18891.2\n",
       "Royaume Uni    18669.5\n",
       "Irelande       18332.0\n",
       "Norvege        15528.8\n",
       "Italie         13304.4\n",
       "Chine          12475.2\n",
       "Argentine      11963.5\n",
       "Mexique        11702.9\n",
       "Japon          11553.5\n",
       "Viet Nam        7633.4\n",
       "Australie       5315.1\n",
       "Croatie         4822.1\n",
       "Danemark        3378.5\n",
       "Finlande        1544.9\n",
       "CANADA           491.4\n",
       "Name: par client, dtype: float64"
      ]
     },
     "execution_count": 215,
     "metadata": {},
     "output_type": "execute_result"
    }
   ],
   "source": [
    "# CA par pays :\n",
    "par_client_enrichi.groupby('Pays')['par client'].sum().sort_values(ascending=False)"
   ]
  },
  {
   "cell_type": "code",
   "execution_count": 221,
   "metadata": {},
   "outputs": [
    {
     "data": {
      "text/plain": [
       "Pays\n",
       "France         11.785995\n",
       "Etats Unis     11.691464\n",
       "Belgique       11.171035\n",
       "Chili           9.641345\n",
       "Allemagne       9.539757\n",
       "Espagne         8.130171\n",
       "Pays Bas        5.361846\n",
       "Canada          4.010146\n",
       "Suede           3.480432\n",
       "Royaume Uni     3.439587\n",
       "Name: par client, dtype: float64"
      ]
     },
     "execution_count": 221,
     "metadata": {},
     "output_type": "execute_result"
    }
   ],
   "source": [
    "# En pourcentage :\n",
    "par_client_enrichi.groupby('Pays')['par client'].sum().sort_values(ascending=False).head(10)/par_client_enrichi.groupby('Pays')['par client'].sum().sum()*100"
   ]
  },
  {
   "cell_type": "markdown",
   "metadata": {},
   "source": [
    "## Recommandations : KPI retenus\n",
    "\n",
    "Nous assumons que le tableau de bord est à destination des équipes commerciales (vendeurs et managers).\n",
    "\n",
    "Nous retenons les KPI suivants pour la réalisation du tableau de bord : \n",
    "\n",
    "- CA global tous pays\n",
    "    - En valeur\n",
    "    - En volume\n",
    "\n",
    "- Graphique d'évolution du CA\n",
    "    - Par année\n",
    "    - Par pays\n",
    "\n",
    "- Catégorie et marque de boisson les plus vendues\n",
    "    - En valeur\n",
    "    - En volume\n"
   ]
  },
  {
   "cell_type": "code",
   "execution_count": null,
   "metadata": {},
   "outputs": [],
   "source": []
  }
 ],
 "metadata": {
  "kernelspec": {
   "display_name": "eda",
   "language": "python",
   "name": "python3"
  },
  "language_info": {
   "codemirror_mode": {
    "name": "ipython",
    "version": 3
   },
   "file_extension": ".py",
   "mimetype": "text/x-python",
   "name": "python",
   "nbconvert_exporter": "python",
   "pygments_lexer": "ipython3",
   "version": "3.10.13"
  }
 },
 "nbformat": 4,
 "nbformat_minor": 2
}
